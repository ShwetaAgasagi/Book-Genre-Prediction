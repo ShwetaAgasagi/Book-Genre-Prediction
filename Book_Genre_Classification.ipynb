{
 "cells": [
  {
   "cell_type": "code",
   "execution_count": 12,
   "metadata": {},
   "outputs": [],
   "source": [
    "import pandas as pd\n",
    "import numpy as np\n",
    "import re\n",
    "import nltk\n",
    "from sklearn.feature_extraction.text import TfidfVectorizer\n",
    "from sklearn.linear_model import LogisticRegression\n"
   ]
  },
  {
   "cell_type": "code",
   "execution_count": 3,
   "metadata": {
    "id": "c9ZuGSpmd7fJ"
   },
   "outputs": [
    {
     "data": {
      "text/html": [
       "<div>\n",
       "<style scoped>\n",
       "    .dataframe tbody tr th:only-of-type {\n",
       "        vertical-align: middle;\n",
       "    }\n",
       "\n",
       "    .dataframe tbody tr th {\n",
       "        vertical-align: top;\n",
       "    }\n",
       "\n",
       "    .dataframe thead th {\n",
       "        text-align: right;\n",
       "    }\n",
       "</style>\n",
       "<table border=\"1\" class=\"dataframe\">\n",
       "  <thead>\n",
       "    <tr style=\"text-align: right;\">\n",
       "      <th></th>\n",
       "      <th>Unnamed: 0</th>\n",
       "      <th>book_id</th>\n",
       "      <th>book_name</th>\n",
       "      <th>genre</th>\n",
       "      <th>summary</th>\n",
       "    </tr>\n",
       "  </thead>\n",
       "  <tbody>\n",
       "    <tr>\n",
       "      <th>0</th>\n",
       "      <td>0</td>\n",
       "      <td>3248537</td>\n",
       "      <td>Drowned Wednesday</td>\n",
       "      <td>Fantasy</td>\n",
       "      <td>Drowned Wednesday is the first Trustee among ...</td>\n",
       "    </tr>\n",
       "    <tr>\n",
       "      <th>1</th>\n",
       "      <td>1</td>\n",
       "      <td>27796919</td>\n",
       "      <td>The Lost Hero</td>\n",
       "      <td>Fantasy</td>\n",
       "      <td>As the book opens, Jason awakens on a school ...</td>\n",
       "    </tr>\n",
       "    <tr>\n",
       "      <th>2</th>\n",
       "      <td>2</td>\n",
       "      <td>3910776</td>\n",
       "      <td>The Eyes of the Overworld</td>\n",
       "      <td>Fantasy</td>\n",
       "      <td>Cugel is easily persuaded by the merchant Fia...</td>\n",
       "    </tr>\n",
       "    <tr>\n",
       "      <th>3</th>\n",
       "      <td>3</td>\n",
       "      <td>5969644</td>\n",
       "      <td>Magic's Promise</td>\n",
       "      <td>Fantasy</td>\n",
       "      <td>The book opens with Herald-Mage Vanyel return...</td>\n",
       "    </tr>\n",
       "    <tr>\n",
       "      <th>4</th>\n",
       "      <td>4</td>\n",
       "      <td>3173445</td>\n",
       "      <td>Taran Wanderer</td>\n",
       "      <td>Fantasy</td>\n",
       "      <td>Taran and Gurgi have returned to Caer Dallben...</td>\n",
       "    </tr>\n",
       "    <tr>\n",
       "      <th>...</th>\n",
       "      <td>...</td>\n",
       "      <td>...</td>\n",
       "      <td>...</td>\n",
       "      <td>...</td>\n",
       "      <td>...</td>\n",
       "    </tr>\n",
       "    <tr>\n",
       "      <th>2995</th>\n",
       "      <td>2995</td>\n",
       "      <td>10372180</td>\n",
       "      <td>White Death</td>\n",
       "      <td>Thriller</td>\n",
       "      <td>A Novel from the NUMA files, A Kurt Austin Ad...</td>\n",
       "    </tr>\n",
       "    <tr>\n",
       "      <th>2996</th>\n",
       "      <td>2996</td>\n",
       "      <td>14504372</td>\n",
       "      <td>Venus with Pistol</td>\n",
       "      <td>Thriller</td>\n",
       "      <td>Gilbert Kemp is dealer specializing in antiqu...</td>\n",
       "    </tr>\n",
       "    <tr>\n",
       "      <th>2997</th>\n",
       "      <td>2997</td>\n",
       "      <td>3617412</td>\n",
       "      <td>Blackwater</td>\n",
       "      <td>Thriller</td>\n",
       "      <td>\"How do you know when you're in too deep? Dav...</td>\n",
       "    </tr>\n",
       "    <tr>\n",
       "      <th>2998</th>\n",
       "      <td>2998</td>\n",
       "      <td>11320975</td>\n",
       "      <td>The Rainbow and the Rose</td>\n",
       "      <td>Thriller</td>\n",
       "      <td>The story concerns the life of Johnnie Pascoe...</td>\n",
       "    </tr>\n",
       "    <tr>\n",
       "      <th>2999</th>\n",
       "      <td>2999</td>\n",
       "      <td>17227674</td>\n",
       "      <td>Chiefs</td>\n",
       "      <td>Thriller</td>\n",
       "      <td>The First Chief: Will Henry Lee: The novel op...</td>\n",
       "    </tr>\n",
       "  </tbody>\n",
       "</table>\n",
       "<p>3000 rows × 5 columns</p>\n",
       "</div>"
      ],
      "text/plain": [
       "      Unnamed: 0   book_id                  book_name     genre  \\\n",
       "0              0   3248537          Drowned Wednesday   Fantasy   \n",
       "1              1  27796919              The Lost Hero   Fantasy   \n",
       "2              2   3910776  The Eyes of the Overworld   Fantasy   \n",
       "3              3   5969644            Magic's Promise   Fantasy   \n",
       "4              4   3173445             Taran Wanderer   Fantasy   \n",
       "...          ...       ...                        ...       ...   \n",
       "2995        2995  10372180                White Death  Thriller   \n",
       "2996        2996  14504372          Venus with Pistol  Thriller   \n",
       "2997        2997   3617412                 Blackwater  Thriller   \n",
       "2998        2998  11320975   The Rainbow and the Rose  Thriller   \n",
       "2999        2999  17227674                     Chiefs  Thriller   \n",
       "\n",
       "                                                summary  \n",
       "0      Drowned Wednesday is the first Trustee among ...  \n",
       "1      As the book opens, Jason awakens on a school ...  \n",
       "2      Cugel is easily persuaded by the merchant Fia...  \n",
       "3      The book opens with Herald-Mage Vanyel return...  \n",
       "4      Taran and Gurgi have returned to Caer Dallben...  \n",
       "...                                                 ...  \n",
       "2995   A Novel from the NUMA files, A Kurt Austin Ad...  \n",
       "2996   Gilbert Kemp is dealer specializing in antiqu...  \n",
       "2997   \"How do you know when you're in too deep? Dav...  \n",
       "2998   The story concerns the life of Johnnie Pascoe...  \n",
       "2999   The First Chief: Will Henry Lee: The novel op...  \n",
       "\n",
       "[3000 rows x 5 columns]"
      ]
     },
     "execution_count": 3,
     "metadata": {},
     "output_type": "execute_result"
    }
   ],
   "source": [
    "df=pd.read_csv(\"BooksDataSet.csv\")\n",
    "df"
   ]
  },
  {
   "cell_type": "code",
   "execution_count": 4,
   "metadata": {
    "id": "66deYcn5_-ni"
   },
   "outputs": [],
   "source": [
    "#removing unnanmed cloumn as it is not useful\n",
    "\n",
    "df.drop(\"Unnamed: 0\",axis=1,inplace=True)"
   ]
  },
  {
   "cell_type": "code",
   "execution_count": 5,
   "metadata": {
    "colab": {
     "base_uri": "https://localhost:8080/"
    },
    "id": "ONWx_DM7AUhG",
    "outputId": "c64cd9d7-980a-4e4c-ce48-cc3af6ca7219"
   },
   "outputs": [
    {
     "name": "stdout",
     "output_type": "stream",
     "text": [
      "<class 'pandas.core.frame.DataFrame'>\n",
      "RangeIndex: 3000 entries, 0 to 2999\n",
      "Data columns (total 4 columns):\n",
      " #   Column     Non-Null Count  Dtype \n",
      "---  ------     --------------  ----- \n",
      " 0   book_id    3000 non-null   int64 \n",
      " 1   book_name  3000 non-null   object\n",
      " 2   genre      3000 non-null   object\n",
      " 3   summary    3000 non-null   object\n",
      "dtypes: int64(1), object(3)\n",
      "memory usage: 93.9+ KB\n"
     ]
    }
   ],
   "source": [
    "df.info()"
   ]
  },
  {
   "cell_type": "code",
   "execution_count": 6,
   "metadata": {
    "colab": {
     "base_uri": "https://localhost:8080/",
     "height": 300
    },
    "id": "7QmyJTCIAsy1",
    "outputId": "bf40ca8b-f18f-450a-bd87-d9e0a01b953b"
   },
   "outputs": [
    {
     "data": {
      "text/html": [
       "<div>\n",
       "<style scoped>\n",
       "    .dataframe tbody tr th:only-of-type {\n",
       "        vertical-align: middle;\n",
       "    }\n",
       "\n",
       "    .dataframe tbody tr th {\n",
       "        vertical-align: top;\n",
       "    }\n",
       "\n",
       "    .dataframe thead th {\n",
       "        text-align: right;\n",
       "    }\n",
       "</style>\n",
       "<table border=\"1\" class=\"dataframe\">\n",
       "  <thead>\n",
       "    <tr style=\"text-align: right;\">\n",
       "      <th></th>\n",
       "      <th>book_id</th>\n",
       "    </tr>\n",
       "  </thead>\n",
       "  <tbody>\n",
       "    <tr>\n",
       "      <th>count</th>\n",
       "      <td>3.000000e+03</td>\n",
       "    </tr>\n",
       "    <tr>\n",
       "      <th>mean</th>\n",
       "      <td>9.258275e+06</td>\n",
       "    </tr>\n",
       "    <tr>\n",
       "      <th>std</th>\n",
       "      <td>8.375375e+06</td>\n",
       "    </tr>\n",
       "    <tr>\n",
       "      <th>min</th>\n",
       "      <td>8.430000e+02</td>\n",
       "    </tr>\n",
       "    <tr>\n",
       "      <th>25%</th>\n",
       "      <td>2.944599e+06</td>\n",
       "    </tr>\n",
       "    <tr>\n",
       "      <th>50%</th>\n",
       "      <td>6.169495e+06</td>\n",
       "    </tr>\n",
       "    <tr>\n",
       "      <th>75%</th>\n",
       "      <td>1.373293e+07</td>\n",
       "    </tr>\n",
       "    <tr>\n",
       "      <th>max</th>\n",
       "      <td>3.705402e+07</td>\n",
       "    </tr>\n",
       "  </tbody>\n",
       "</table>\n",
       "</div>"
      ],
      "text/plain": [
       "            book_id\n",
       "count  3.000000e+03\n",
       "mean   9.258275e+06\n",
       "std    8.375375e+06\n",
       "min    8.430000e+02\n",
       "25%    2.944599e+06\n",
       "50%    6.169495e+06\n",
       "75%    1.373293e+07\n",
       "max    3.705402e+07"
      ]
     },
     "execution_count": 6,
     "metadata": {},
     "output_type": "execute_result"
    }
   ],
   "source": [
    "df.describe()"
   ]
  },
  {
   "cell_type": "code",
   "execution_count": 7,
   "metadata": {
    "colab": {
     "base_uri": "https://localhost:8080/"
    },
    "id": "tBjgaGfkAurg",
    "outputId": "c5f266a2-2dd8-4fd6-b480-d6274ead395f"
   },
   "outputs": [
    {
     "data": {
      "text/plain": [
       "book_id      0\n",
       "book_name    0\n",
       "genre        0\n",
       "summary      0\n",
       "dtype: int64"
      ]
     },
     "execution_count": 7,
     "metadata": {},
     "output_type": "execute_result"
    }
   ],
   "source": [
    "df.isnull().sum()"
   ]
  },
  {
   "cell_type": "code",
   "execution_count": 10,
   "metadata": {
    "colab": {
     "base_uri": "https://localhost:8080/",
     "height": 157
    },
    "id": "m5EAwO6kB6Dz",
    "outputId": "f0b3173c-b402-48fa-ad38-c153b36151ac"
   },
   "outputs": [
    {
     "data": {
      "text/plain": [
       "'as the book opens jason awakens on a school bus unable to remember who or where he is or anything about his past he is sitting next to piper mclean and leo valdez who call him by name and say they are his girlfriend and best friend respectively all three are part of a class field trip to the grand canyon and after they arrive a classmate dylan turns into a venti storm spirit and attacks the trio and their trip leader coach gleeson hedge in the ensuing fight jason surprises everyone including himself when one of his coins turns into a sword which he uses to battle the storm spirits coach hedge who reveals himself to be a satyr during the fight is taken captive by a fleeing spirit after the battle a flying chariot arrives to rescue the trio but one of the people in it annabeth is upset when she discovers that her missing boyfriend percy jackson is not there as she expected annabeth seeking percy was told in a vision from the goddess hera to look there for the guy with one shoe but this turns out to be jason who had a shoe destroyed during the fight jason piper and leo are told that they are demigods and are taken back to camp half blood where they meet other greek demigod children like themselves there leo is revealed as a son of hephaestus piper as a daughter of aphrodite and jason as a son of zeus though hera tells him he is her champion jason later discovers that he is the full brother of zeus s demigod daughter thalia grace who is a hunter of artemis shortly after they arrive the three are given a quest to rescue hera who has been captured and they set off they soon discover that their enemies are working under orders from gaea to overthrow the gods during their quest they encounter thalia and the hunters who have been looking for percy thalia and jason reunite for the first since jason was captured at the age of two on the way to aeolus s castle jason leo and piper become separated from thalia who promises to meet them at the wolf house the last place thalia had seen jason before this meeting after being nearly apprehended by aeolus who is under gaea s orders the trio manage to escape thanks to mellie aeolus s former assistant and end up in san francisco thanks to the result of a dream piper had with aphrodite after landing in san francisco the trio rush to mt diablo to fight the giant enceladus who has kidnapped piper s father they manage to kill the giant and save piper s father after which they rush to the wolf house to free hera although the heroes and the hunters save hera the king of the giants porphyrion rises fully and disappears into a hole in the earth jason s memory then starts returning and he remembers that he is a hero from a roman counterpart to camp half blood somewhere near san francisco and is the son of jupiter zeus s roman aspect he realizes that hera also known as juno has switched him with percy jackson who will be at the roman camp with no memory of his life in the hopes that the two camps would ultimately work together to fight the giants and defeat the goddess gaea'"
      ]
     },
     "execution_count": 10,
     "metadata": {},
     "output_type": "execute_result"
    }
   ],
   "source": [
    "#cleaning the data\n",
    "\n",
    "def cleantext(text):\n",
    "\n",
    "  # removing the'\\'\n",
    "\n",
    "  text=re.sub(\"'\\'\",\"\",text)\n",
    "\n",
    "  # removing special symbols\n",
    "\n",
    "  text=re.sub(\"[^a-zA-Z]\",\" \",text)\n",
    "\n",
    "  # removing the whitespaces\n",
    "\n",
    "  text=' '.join(text.split())\n",
    "\n",
    "  # convert text to lowercase\n",
    "\n",
    "  text=text.lower()\n",
    "  return text\n",
    "\n",
    "df[\"summary\"]=df[\"summary\"].apply(lambda x:cleantext(x))\n",
    "df[\"summary\"].iloc[1]"
   ]
  },
  {
   "cell_type": "markdown",
   "metadata": {
    "id": "xxBQaLZ2eWJF"
   },
   "source": [
    "Removing Stop Words"
   ]
  },
  {
   "cell_type": "code",
   "execution_count": 18,
   "metadata": {
    "colab": {
     "base_uri": "https://localhost:8080/"
    },
    "id": "QcfTK-fTejSN",
    "outputId": "e7b44324-5ea3-461d-f819-b9f80ac6be40"
   },
   "outputs": [
    {
     "name": "stderr",
     "output_type": "stream",
     "text": [
      "[nltk_data] Downloading package stopwords to C:\\Users\\ASUS-\n",
      "[nltk_data]     PC\\AppData\\Roaming\\nltk_data...\n",
      "[nltk_data]   Package stopwords is already up-to-date!\n"
     ]
    },
    {
     "data": {
      "text/plain": [
       "True"
      ]
     },
     "execution_count": 18,
     "metadata": {},
     "output_type": "execute_result"
    }
   ],
   "source": [
    "import nltk\n",
    "nltk.download(\"stopwords\")"
   ]
  },
  {
   "cell_type": "code",
   "execution_count": 19,
   "metadata": {
    "colab": {
     "base_uri": "https://localhost:8080/",
     "height": 157
    },
    "id": "zYzN3YpYdYqc",
    "outputId": "c6e0b1d9-1c60-493a-d2d8-625bd58acf36"
   },
   "outputs": [
    {
     "data": {
      "text/plain": [
       "'book open jason awaken school bu unabl rememb anyth hi past sit next piper mclean leo valdez call name say hi girlfriend best friend respect three part class field trip grand canyon arriv classmat dylan turn venti storm spirit attack trio trip leader coach gleeson hedg ensu fight jason surpris everyon includ one hi coin turn sword use battl storm spirit coach hedg reveal satyr dure fight taken captiv flee spirit battl fli chariot arriv rescu trio one peopl annabeth upset discov miss boyfriend perci jackson expect annabeth seek perci wa told vision goddess hera look guy one shoe thi turn jason shoe destroy dure fight jason piper leo told demigod taken back camp half blood meet greek demigod children like themselv leo reveal son hephaestu piper daughter aphrodit jason son zeu though hera tell champion jason later discov full brother zeu demigod daughter thalia grace hunter artemi shortli arriv three given quest rescu hera ha captur set soon discov enemi work order gaea overthrow god dure quest encount thalia hunter look perci thalia jason reunit first sinc jason wa captur age two way aeolu castl jason leo piper becom separ thalia promis meet wolf hous last place thalia seen jason befor thi meet nearli apprehend aeolu gaea order trio manag escap thank melli aeolu former assist end san francisco thank result dream piper aphrodit land san francisco trio rush mt diablo fight giant enceladu ha kidnap piper father manag kill giant save piper father rush wolf hous free hera although hero hunter save hera king giant porphyrion rise fulli disappear hole earth jason memori start return rememb hero roman counterpart camp half blood somewher near san francisco son jupit zeu roman aspect realiz hera also known juno ha switch perci jackson roman camp memori hi life hope two camp would ultim work togeth fight giant defeat goddess gaea'"
      ]
     },
     "execution_count": 19,
     "metadata": {},
     "output_type": "execute_result"
    }
   ],
   "source": [
    "from nltk.corpus import stopwords\n",
    "stop_words=set(stopwords.words('english'))\n",
    "\n",
    "#removing the stopwords\n",
    "\n",
    "def removestopwords(text):\n",
    "\n",
    "  removedstopword=[word for word in text.split() if word not in stop_words]\n",
    "  return \" \".join(removedstopword)\n",
    "\n",
    "df[\"summary\"]=df[\"summary\"].apply(lambda x:removestopwords(x))\n",
    "df[\"summary\"].iloc[1]"
   ]
  },
  {
   "cell_type": "markdown",
   "metadata": {
    "id": "Znc_Ruozfxrr"
   },
   "source": [
    "Lemmatizing"
   ]
  },
  {
   "cell_type": "code",
   "execution_count": 24,
   "metadata": {},
   "outputs": [
    {
     "name": "stderr",
     "output_type": "stream",
     "text": [
      "[nltk_data] Downloading package omw-1.4 to C:\\Users\\ASUS-\n",
      "[nltk_data]     PC\\AppData\\Roaming\\nltk_data...\n"
     ]
    },
    {
     "data": {
      "text/plain": [
       "True"
      ]
     },
     "execution_count": 24,
     "metadata": {},
     "output_type": "execute_result"
    }
   ],
   "source": [
    "import nltk\n",
    "nltk.download('omw-1.4')"
   ]
  },
  {
   "cell_type": "code",
   "execution_count": 25,
   "metadata": {
    "id": "deiiuqtff32L"
   },
   "outputs": [],
   "source": [
    "from nltk.stem import WordNetLemmatizer\n",
    "\n",
    "lemma=WordNetLemmatizer()\n",
    "\n",
    "def lematizing(sentence):\n",
    "  stemSentence=\"\"\n",
    "  for word in sentence.split():\n",
    "    stem=lemma.lemmatize(word)\n",
    "    stemSentence +=stem\n",
    "    stemSentence +=\" \"\n",
    "  stemSentence = stemSentence.strip()\n",
    "  return stemSentence\n",
    "\n",
    "df[\"summary\"]=df[\"summary\"].apply(lambda x:lematizing(x))"
   ]
  },
  {
   "cell_type": "code",
   "execution_count": 26,
   "metadata": {},
   "outputs": [
    {
     "data": {
      "text/plain": [
       "0       drown wednesday first truste among morrow day ...\n",
       "1       book open jason awaken school bu unabl rememb ...\n",
       "2       cugel easili persuad merchant fianosth attempt...\n",
       "3       book open herald mage vanyel return hi countri...\n",
       "4       taran gurgi return caer dallben follow event t...\n",
       "                              ...                        \n",
       "2995    novel numa file kurt austin adventur thi novel...\n",
       "2996    gilbert kemp dealer special antiqu gun london ...\n",
       "2997    know deep davey ha alway live shadow hi older ...\n",
       "2998    stori concern life johnni pasco retir commerci...\n",
       "2999    first chief henri lee novel open grow town del...\n",
       "Name: summary, Length: 3000, dtype: object"
      ]
     },
     "execution_count": 26,
     "metadata": {},
     "output_type": "execute_result"
    }
   ],
   "source": [
    "df[\"summary\"]"
   ]
  },
  {
   "cell_type": "markdown",
   "metadata": {
    "id": "R4PxO8_UhiG3"
   },
   "source": [
    "Stemming"
   ]
  },
  {
   "cell_type": "code",
   "execution_count": 27,
   "metadata": {
    "colab": {
     "base_uri": "https://localhost:8080/",
     "height": 157
    },
    "id": "9Ni79FTOg2qq",
    "outputId": "b8a92e3f-6c99-4b52-a826-2ba28b20a221"
   },
   "outputs": [
    {
     "data": {
      "text/plain": [
       "'book open jason awaken school bu unabl rememb anyth hi past sit next piper mclean leo valdez call name say hi girlfriend best friend respect three part class field trip grand canyon arriv classmat dylan turn venti storm spirit attack trio trip leader coach gleeson hedg ensu fight jason surpri everyon includ one hi coin turn sword use battl storm spirit coach hedg reveal satyr dure fight taken captiv flee spirit battl fli chariot arriv rescu trio one peopl annabeth upset discov miss boyfriend perci jackson expect annabeth seek perci wa told vision goddess hera look guy one shoe thi turn jason shoe destroy dure fight jason piper leo told demigod taken back camp half blood meet greek demigod child like themselv leo reveal son hephaestu piper daughter aphrodit jason son zeu though hera tell champion jason later discov full brother zeu demigod daughter thalia grace hunter artemi shortli arriv three given quest rescu hera ha captur set soon discov enemi work order gaea overthrow god dure quest encount thalia hunter look perci thalia jason reunit first sinc jason wa captur age two way aeolu castl jason leo piper becom separ thalia promi meet wolf hou last place thalia seen jason befor thi meet nearli apprehend aeolu gaea order trio manag escap thank melli aeolu former assist end san francisco thank result dream piper aphrodit land san francisco trio rush mt diablo fight giant enceladu ha kidnap piper father manag kill giant save piper father rush wolf hou free hera although hero hunter save hera king giant porphyrion rise fulli disappear hole earth jason memori start return rememb hero roman counterpart camp half blood somewh near san francisco son jupit zeu roman aspect realiz hera also known juno ha switch perci jackson roman camp memori hi life hope two camp would ultim work togeth fight giant defeat goddess gaea'"
      ]
     },
     "execution_count": 27,
     "metadata": {},
     "output_type": "execute_result"
    }
   ],
   "source": [
    "from nltk.stem import PorterStemmer\n",
    "stemmer=PorterStemmer()\n",
    "\n",
    "def stemming(sentence):\n",
    "\n",
    "  stemmed_sentence=\"\"\n",
    "  for word in sentence.split():\n",
    "    stem=stemmer.stem(word)\n",
    "    stemmed_sentence +=stem\n",
    "    stemmed_sentence +=\" \"\n",
    "\n",
    "  stemmed_sentence=stemmed_sentence.strip()\n",
    "  return stemmed_sentence\n",
    "\n",
    "\n",
    "df[\"summary\"]=df[\"summary\"].apply(lambda text:stemming(text))\n",
    "df[\"summary\"].iloc[1]"
   ]
  },
  {
   "cell_type": "markdown",
   "metadata": {
    "id": "4L0SSqs4jR8B"
   },
   "source": [
    "Encoding"
   ]
  },
  {
   "cell_type": "code",
   "execution_count": 31,
   "metadata": {
    "colab": {
     "base_uri": "https://localhost:8080/"
    },
    "id": "Ezng4t9wjb9I",
    "outputId": "3d903aa0-9406-4c40-e4a4-a8cd47a0ae2d"
   },
   "outputs": [
    {
     "data": {
      "text/plain": [
       "['Fantasy',\n",
       " 'Science Fiction',\n",
       " 'Crime Fiction',\n",
       " 'Historical novel',\n",
       " 'Horror',\n",
       " 'Thriller']"
      ]
     },
     "execution_count": 31,
     "metadata": {},
     "output_type": "execute_result"
    }
   ],
   "source": [
    "list(df['genre'].unique())"
   ]
  },
  {
   "cell_type": "code",
   "execution_count": 32,
   "metadata": {
    "colab": {
     "base_uri": "https://localhost:8080/"
    },
    "id": "Ha7h5daKjPL2",
    "outputId": "c1ce1491-2266-4020-a137-3117edc791b0"
   },
   "outputs": [
    {
     "name": "stdout",
     "output_type": "stream",
     "text": [
      "{'Fantasy': 0, 'Science Fiction': 1, 'Crime Fiction': 2, 'Historical novel': 3, 'Horror': 4, 'Thriller': 5}\n"
     ]
    }
   ],
   "source": [
    "books_list=list(df['genre'].unique())\n",
    "encode=[i for i in range (len(books_list))]\n",
    "mapper=dict(zip(books_list,encode))\n",
    "print(mapper)"
   ]
  },
  {
   "cell_type": "code",
   "execution_count": 33,
   "metadata": {
    "colab": {
     "base_uri": "https://localhost:8080/"
    },
    "id": "b4fF0VYPjm59",
    "outputId": "87084295-99c4-44fb-8969-e002a47bdb59"
   },
   "outputs": [
    {
     "data": {
      "text/plain": [
       "array([0, 1, 2, 3, 4, 5])"
      ]
     },
     "execution_count": 33,
     "metadata": {},
     "output_type": "execute_result"
    }
   ],
   "source": [
    "df[\"genre\"]=df[\"genre\"].map(mapper)\n",
    "df[\"genre\"].unique()"
   ]
  },
  {
   "cell_type": "markdown",
   "metadata": {
    "id": "6M8tPPLykDSA"
   },
   "source": [
    "Model Building"
   ]
  },
  {
   "cell_type": "code",
   "execution_count": 34,
   "metadata": {
    "colab": {
     "base_uri": "https://localhost:8080/"
    },
    "id": "pjHh7-Uxjwee",
    "outputId": "02af1bb4-92b0-4dc1-aad4-b0bd95697903"
   },
   "outputs": [
    {
     "data": {
      "text/plain": [
       "<3000x1000 sparse matrix of type '<class 'numpy.int64'>'\n",
       "\twith 245387 stored elements in Compressed Sparse Row format>"
      ]
     },
     "execution_count": 34,
     "metadata": {},
     "output_type": "execute_result"
    }
   ],
   "source": [
    "##Count Vectorizer\n",
    "\n",
    "count_vec=CountVectorizer(max_df=0.90,min_df=2,max_features=1000,stop_words=\"english\")\n",
    "\n",
    "bagofword_vec=count_vec.fit_transform(df[\"summary\"])\n",
    "bagofword_vec"
   ]
  },
  {
   "cell_type": "code",
   "execution_count": 35,
   "metadata": {
    "colab": {
     "base_uri": "https://localhost:8080/"
    },
    "id": "LdfMOGVnkgZS",
    "outputId": "5a12cfe2-2b86-46e8-b814-6a7860f2817a"
   },
   "outputs": [
    {
     "data": {
      "text/plain": [
       "((2400, 1000), (600, 1000))"
      ]
     },
     "execution_count": 35,
     "metadata": {},
     "output_type": "execute_result"
    }
   ],
   "source": [
    "test=df[\"genre\"]\n",
    "xtrain,xtest,ytrain,ytest=train_test_split(bagofword_vec,test,test_size=0.2)\n",
    "\n",
    "xtrain.shape,xtest.shape"
   ]
  },
  {
   "cell_type": "code",
   "execution_count": 36,
   "metadata": {
    "colab": {
     "base_uri": "https://localhost:8080/"
    },
    "id": "SybBYpankvvO",
    "outputId": "fb94137a-1957-47d7-8fe0-468f3d580f97"
   },
   "outputs": [
    {
     "name": "stdout",
     "output_type": "stream",
     "text": [
      "0.5816666666666667\n"
     ]
    }
   ],
   "source": [
    "svc=SVC()\n",
    "svc.fit(xtrain,ytrain)\n",
    "svcpred=svc.predict(xtest)\n",
    "print(metrics.accuracy_score(ytest,svcpred))"
   ]
  },
  {
   "cell_type": "code",
   "execution_count": 37,
   "metadata": {
    "colab": {
     "base_uri": "https://localhost:8080/"
    },
    "id": "uNvnWsZok99x",
    "outputId": "a08b5152-54a3-4528-8898-35b05f3a5222"
   },
   "outputs": [
    {
     "name": "stdout",
     "output_type": "stream",
     "text": [
      "0.7116666666666667\n"
     ]
    }
   ],
   "source": [
    "mb=MultinomialNB()\n",
    "mb.fit(xtrain,ytrain)\n",
    "mbpred=mb.predict(xtest)\n",
    "print(metrics.accuracy_score(ytest,mbpred))"
   ]
  },
  {
   "cell_type": "code",
   "execution_count": 38,
   "metadata": {
    "colab": {
     "base_uri": "https://localhost:8080/"
    },
    "id": "5o8k2C2tldiD",
    "outputId": "353dd9b9-148f-4f55-87fe-41458c466764"
   },
   "outputs": [
    {
     "name": "stdout",
     "output_type": "stream",
     "text": [
      "0.63\n"
     ]
    }
   ],
   "source": [
    "rf=RandomForestClassifier()\n",
    "rf.fit(xtrain,ytrain)\n",
    "rfpred=rf.predict(xtest)\n",
    "print(metrics.accuracy_score(ytest,rfpred))"
   ]
  },
  {
   "cell_type": "markdown",
   "metadata": {
    "id": "YXPXSEJsl8vU"
   },
   "source": [
    "Model Building_2\n",
    "\n",
    "Changing from Countvectorizer to TFIDF vectorizer"
   ]
  },
  {
   "cell_type": "code",
   "execution_count": 40,
   "metadata": {
    "colab": {
     "base_uri": "https://localhost:8080/"
    },
    "id": "2bz0Fxxhlpz5",
    "outputId": "c911b77b-e256-4c46-80d2-de6c78d3b910"
   },
   "outputs": [
    {
     "data": {
      "text/plain": [
       "((2400,), (600,))"
      ]
     },
     "execution_count": 40,
     "metadata": {},
     "output_type": "execute_result"
    }
   ],
   "source": [
    "#Labeling each genre with an unique number\n",
    "\n",
    "from sklearn.preprocessing import LabelEncoder\n",
    "\n",
    "le=LabelEncoder()\n",
    "y=le.fit_transform(df[\"genre\"])\n",
    "\n",
    "xtrain,xtest,ytrain,ytest=train_test_split(df[\"summary\"],y,test_size=0.2,random_state=557)\n",
    "\n",
    "xtrain.shape,xtest.shape"
   ]
  },
  {
   "cell_type": "code",
   "execution_count": 41,
   "metadata": {
    "id": "ZXcOGQmzmq6R"
   },
   "outputs": [],
   "source": [
    "#Performing TF-idf\n",
    "\n",
    "tfidf_vectorizer= TfidfVectorizer(max_df=0.8,max_features=10000)\n",
    "xtrain_tfidf=tfidf_vectorizer.fit_transform(xtrain.values.astype('U'))\n",
    "xtest_tfidf=tfidf_vectorizer.transform(xtest.values.astype('U'))\n"
   ]
  },
  {
   "cell_type": "code",
   "execution_count": 44,
   "metadata": {
    "colab": {
     "base_uri": "https://localhost:8080/"
    },
    "id": "74IMSnW4nREI",
    "outputId": "0c43144f-331f-424b-e905-844966302b05"
   },
   "outputs": [
    {
     "name": "stdout",
     "output_type": "stream",
     "text": [
      "0.775\n"
     ]
    }
   ],
   "source": [
    "svc=SVC()\n",
    "svc.fit(xtrain_tfidf,ytrain)\n",
    "svcpred=svc.predict(xtest_tfidf)\n",
    "print(metrics.accuracy_score(ytest,svcpred))"
   ]
  },
  {
   "cell_type": "code",
   "execution_count": 46,
   "metadata": {
    "colab": {
     "base_uri": "https://localhost:8080/"
    },
    "id": "I5DV6XVXnxq2",
    "outputId": "d9a761be-1033-4a82-8f73-56d084bc999c"
   },
   "outputs": [
    {
     "name": "stdout",
     "output_type": "stream",
     "text": [
      "0.78\n"
     ]
    }
   ],
   "source": [
    "mb=MultinomialNB()\n",
    "mb.fit(xtrain_tfidf,ytrain)\n",
    "mbpred=mb.predict(xtest_tfidf)\n",
    "print(metrics.accuracy_score(ytest,mbpred))"
   ]
  },
  {
   "cell_type": "code",
   "execution_count": 47,
   "metadata": {
    "colab": {
     "base_uri": "https://localhost:8080/"
    },
    "id": "lTQ3x0iWn3g7",
    "outputId": "b2b07ab0-8648-4326-b6de-383ac5e0a422"
   },
   "outputs": [
    {
     "name": "stdout",
     "output_type": "stream",
     "text": [
      "0.6516666666666666\n"
     ]
    }
   ],
   "source": [
    "rf=RandomForestClassifier()\n",
    "rf.fit(xtrain_tfidf,ytrain)\n",
    "rfpred=rf.predict(xtest_tfidf)\n",
    "print(metrics.accuracy_score(ytest,rfpred))"
   ]
  },
  {
   "cell_type": "markdown",
   "metadata": {
    "id": "v23kpXmAoBPd"
   },
   "source": [
    "Testing the Model"
   ]
  },
  {
   "cell_type": "code",
   "execution_count": 48,
   "metadata": {
    "colab": {
     "base_uri": "https://localhost:8080/"
    },
    "id": "G_DabqTtoAbc",
    "outputId": "f994e4e2-1285-4bb1-9f79-944210d76377"
   },
   "outputs": [
    {
     "data": {
      "text/plain": [
       "0       [0]\n",
       "1       [0]\n",
       "2       [0]\n",
       "3       [0]\n",
       "4       [0]\n",
       "       ... \n",
       "2995    [1]\n",
       "2996    [5]\n",
       "2997    [5]\n",
       "2998    [5]\n",
       "2999    [5]\n",
       "Name: summary, Length: 3000, dtype: object"
      ]
     },
     "execution_count": 48,
     "metadata": {},
     "output_type": "execute_result"
    }
   ],
   "source": [
    "def test(text,model):\n",
    "\n",
    "  text=cleantext(text)\n",
    "  text=removestopwords(text)\n",
    "  text=lematizing(text)\n",
    "  text=stemming(text)\n",
    "\n",
    "  text_vector=tfidf_vectorizer.transform([text])\n",
    "  predicted=model.predict(text_vector)\n",
    "  return predicted\n",
    "\n",
    "\n",
    "ans=df[\"summary\"].apply(lambda text:test(text,mb))\n",
    "\n",
    "ans"
   ]
  },
  {
   "cell_type": "code",
   "execution_count": 50,
   "metadata": {
    "id": "Z6EEWZXFoAez"
   },
   "outputs": [],
   "source": [
    "predicted_genres=[]\n",
    "\n",
    "for i in range(len(ans)):\n",
    "\n",
    "  index_val=ans[i][0]\n",
    "  predicted_genres.append(list(mapper.keys())[list(mapper.values()).index(index_val)])"
   ]
  },
  {
   "cell_type": "code",
   "execution_count": 51,
   "metadata": {
    "colab": {
     "base_uri": "https://localhost:8080/"
    },
    "id": "miYZCu_doAi7",
    "outputId": "428eab25-0e1e-4b1c-e7f9-d0f96ffb6973"
   },
   "outputs": [
    {
     "data": {
      "text/plain": [
       "['Fantasy',\n",
       " 'Fantasy',\n",
       " 'Fantasy',\n",
       " 'Fantasy',\n",
       " 'Fantasy',\n",
       " 'Fantasy',\n",
       " 'Fantasy',\n",
       " 'Fantasy',\n",
       " 'Fantasy',\n",
       " 'Fantasy',\n",
       " 'Fantasy',\n",
       " 'Fantasy',\n",
       " 'Fantasy',\n",
       " 'Fantasy',\n",
       " 'Fantasy',\n",
       " 'Science Fiction',\n",
       " 'Fantasy',\n",
       " 'Fantasy',\n",
       " 'Fantasy',\n",
       " 'Fantasy',\n",
       " 'Fantasy',\n",
       " 'Fantasy',\n",
       " 'Fantasy',\n",
       " 'Fantasy',\n",
       " 'Fantasy',\n",
       " 'Fantasy',\n",
       " 'Fantasy',\n",
       " 'Fantasy',\n",
       " 'Fantasy',\n",
       " 'Fantasy',\n",
       " 'Fantasy',\n",
       " 'Fantasy',\n",
       " 'Fantasy',\n",
       " 'Fantasy',\n",
       " 'Fantasy',\n",
       " 'Fantasy',\n",
       " 'Fantasy',\n",
       " 'Thriller',\n",
       " 'Fantasy',\n",
       " 'Fantasy',\n",
       " 'Fantasy',\n",
       " 'Fantasy',\n",
       " 'Fantasy',\n",
       " 'Fantasy',\n",
       " 'Fantasy',\n",
       " 'Fantasy',\n",
       " 'Fantasy',\n",
       " 'Fantasy',\n",
       " 'Fantasy',\n",
       " 'Fantasy',\n",
       " 'Fantasy',\n",
       " 'Fantasy',\n",
       " 'Fantasy',\n",
       " 'Fantasy',\n",
       " 'Fantasy',\n",
       " 'Fantasy',\n",
       " 'Fantasy',\n",
       " 'Fantasy',\n",
       " 'Fantasy',\n",
       " 'Fantasy',\n",
       " 'Fantasy',\n",
       " 'Fantasy',\n",
       " 'Fantasy',\n",
       " 'Fantasy',\n",
       " 'Science Fiction',\n",
       " 'Fantasy',\n",
       " 'Fantasy',\n",
       " 'Fantasy',\n",
       " 'Fantasy',\n",
       " 'Fantasy',\n",
       " 'Fantasy',\n",
       " 'Fantasy',\n",
       " 'Fantasy',\n",
       " 'Horror',\n",
       " 'Fantasy',\n",
       " 'Fantasy',\n",
       " 'Fantasy',\n",
       " 'Fantasy',\n",
       " 'Fantasy',\n",
       " 'Fantasy',\n",
       " 'Fantasy',\n",
       " 'Fantasy',\n",
       " 'Horror',\n",
       " 'Fantasy',\n",
       " 'Fantasy',\n",
       " 'Fantasy',\n",
       " 'Science Fiction',\n",
       " 'Fantasy',\n",
       " 'Fantasy',\n",
       " 'Fantasy',\n",
       " 'Fantasy',\n",
       " 'Fantasy',\n",
       " 'Fantasy',\n",
       " 'Fantasy',\n",
       " 'Fantasy',\n",
       " 'Fantasy',\n",
       " 'Fantasy',\n",
       " 'Fantasy',\n",
       " 'Fantasy',\n",
       " 'Fantasy',\n",
       " 'Fantasy',\n",
       " 'Fantasy',\n",
       " 'Fantasy',\n",
       " 'Fantasy',\n",
       " 'Fantasy',\n",
       " 'Historical novel',\n",
       " 'Science Fiction',\n",
       " 'Science Fiction',\n",
       " 'Fantasy',\n",
       " 'Fantasy',\n",
       " 'Fantasy',\n",
       " 'Fantasy',\n",
       " 'Fantasy',\n",
       " 'Fantasy',\n",
       " 'Fantasy',\n",
       " 'Science Fiction',\n",
       " 'Fantasy',\n",
       " 'Fantasy',\n",
       " 'Fantasy',\n",
       " 'Fantasy',\n",
       " 'Fantasy',\n",
       " 'Fantasy',\n",
       " 'Fantasy',\n",
       " 'Fantasy',\n",
       " 'Fantasy',\n",
       " 'Science Fiction',\n",
       " 'Fantasy',\n",
       " 'Fantasy',\n",
       " 'Fantasy',\n",
       " 'Fantasy',\n",
       " 'Fantasy',\n",
       " 'Fantasy',\n",
       " 'Horror',\n",
       " 'Fantasy',\n",
       " 'Fantasy',\n",
       " 'Fantasy',\n",
       " 'Science Fiction',\n",
       " 'Fantasy',\n",
       " 'Fantasy',\n",
       " 'Fantasy',\n",
       " 'Fantasy',\n",
       " 'Fantasy',\n",
       " 'Fantasy',\n",
       " 'Fantasy',\n",
       " 'Fantasy',\n",
       " 'Fantasy',\n",
       " 'Fantasy',\n",
       " 'Fantasy',\n",
       " 'Science Fiction',\n",
       " 'Fantasy',\n",
       " 'Fantasy',\n",
       " 'Thriller',\n",
       " 'Fantasy',\n",
       " 'Fantasy',\n",
       " 'Fantasy',\n",
       " 'Fantasy',\n",
       " 'Fantasy',\n",
       " 'Science Fiction',\n",
       " 'Horror',\n",
       " 'Fantasy',\n",
       " 'Fantasy',\n",
       " 'Fantasy',\n",
       " 'Fantasy',\n",
       " 'Fantasy',\n",
       " 'Fantasy',\n",
       " 'Fantasy',\n",
       " 'Fantasy',\n",
       " 'Fantasy',\n",
       " 'Fantasy',\n",
       " 'Fantasy',\n",
       " 'Fantasy',\n",
       " 'Science Fiction',\n",
       " 'Fantasy',\n",
       " 'Fantasy',\n",
       " 'Fantasy',\n",
       " 'Fantasy',\n",
       " 'Fantasy',\n",
       " 'Fantasy',\n",
       " 'Fantasy',\n",
       " 'Fantasy',\n",
       " 'Fantasy',\n",
       " 'Science Fiction',\n",
       " 'Fantasy',\n",
       " 'Science Fiction',\n",
       " 'Fantasy',\n",
       " 'Fantasy',\n",
       " 'Fantasy',\n",
       " 'Fantasy',\n",
       " 'Fantasy',\n",
       " 'Fantasy',\n",
       " 'Fantasy',\n",
       " 'Fantasy',\n",
       " 'Fantasy',\n",
       " 'Fantasy',\n",
       " 'Fantasy',\n",
       " 'Fantasy',\n",
       " 'Science Fiction',\n",
       " 'Fantasy',\n",
       " 'Fantasy',\n",
       " 'Fantasy',\n",
       " 'Fantasy',\n",
       " 'Fantasy',\n",
       " 'Fantasy',\n",
       " 'Science Fiction',\n",
       " 'Thriller',\n",
       " 'Fantasy',\n",
       " 'Fantasy',\n",
       " 'Fantasy',\n",
       " 'Fantasy',\n",
       " 'Fantasy',\n",
       " 'Fantasy',\n",
       " 'Fantasy',\n",
       " 'Fantasy',\n",
       " 'Fantasy',\n",
       " 'Fantasy',\n",
       " 'Fantasy',\n",
       " 'Fantasy',\n",
       " 'Fantasy',\n",
       " 'Fantasy',\n",
       " 'Fantasy',\n",
       " 'Fantasy',\n",
       " 'Horror',\n",
       " 'Fantasy',\n",
       " 'Fantasy',\n",
       " 'Fantasy',\n",
       " 'Science Fiction',\n",
       " 'Crime Fiction',\n",
       " 'Fantasy',\n",
       " 'Science Fiction',\n",
       " 'Fantasy',\n",
       " 'Fantasy',\n",
       " 'Fantasy',\n",
       " 'Fantasy',\n",
       " 'Fantasy',\n",
       " 'Fantasy',\n",
       " 'Fantasy',\n",
       " 'Fantasy',\n",
       " 'Fantasy',\n",
       " 'Fantasy',\n",
       " 'Fantasy',\n",
       " 'Horror',\n",
       " 'Fantasy',\n",
       " 'Fantasy',\n",
       " 'Fantasy',\n",
       " 'Fantasy',\n",
       " 'Horror',\n",
       " 'Fantasy',\n",
       " 'Fantasy',\n",
       " 'Science Fiction',\n",
       " 'Fantasy',\n",
       " 'Fantasy',\n",
       " 'Fantasy',\n",
       " 'Fantasy',\n",
       " 'Horror',\n",
       " 'Fantasy',\n",
       " 'Fantasy',\n",
       " 'Fantasy',\n",
       " 'Fantasy',\n",
       " 'Fantasy',\n",
       " 'Fantasy',\n",
       " 'Fantasy',\n",
       " 'Fantasy',\n",
       " 'Fantasy',\n",
       " 'Fantasy',\n",
       " 'Fantasy',\n",
       " 'Fantasy',\n",
       " 'Horror',\n",
       " 'Fantasy',\n",
       " 'Science Fiction',\n",
       " 'Historical novel',\n",
       " 'Fantasy',\n",
       " 'Fantasy',\n",
       " 'Fantasy',\n",
       " 'Fantasy',\n",
       " 'Fantasy',\n",
       " 'Fantasy',\n",
       " 'Fantasy',\n",
       " 'Science Fiction',\n",
       " 'Fantasy',\n",
       " 'Fantasy',\n",
       " 'Fantasy',\n",
       " 'Fantasy',\n",
       " 'Fantasy',\n",
       " 'Fantasy',\n",
       " 'Fantasy',\n",
       " 'Fantasy',\n",
       " 'Fantasy',\n",
       " 'Fantasy',\n",
       " 'Fantasy',\n",
       " 'Fantasy',\n",
       " 'Fantasy',\n",
       " 'Fantasy',\n",
       " 'Fantasy',\n",
       " 'Historical novel',\n",
       " 'Fantasy',\n",
       " 'Crime Fiction',\n",
       " 'Fantasy',\n",
       " 'Science Fiction',\n",
       " 'Fantasy',\n",
       " 'Fantasy',\n",
       " 'Fantasy',\n",
       " 'Fantasy',\n",
       " 'Fantasy',\n",
       " 'Fantasy',\n",
       " 'Fantasy',\n",
       " 'Science Fiction',\n",
       " 'Fantasy',\n",
       " 'Historical novel',\n",
       " 'Science Fiction',\n",
       " 'Fantasy',\n",
       " 'Fantasy',\n",
       " 'Fantasy',\n",
       " 'Fantasy',\n",
       " 'Fantasy',\n",
       " 'Fantasy',\n",
       " 'Fantasy',\n",
       " 'Fantasy',\n",
       " 'Fantasy',\n",
       " 'Fantasy',\n",
       " 'Science Fiction',\n",
       " 'Fantasy',\n",
       " 'Fantasy',\n",
       " 'Fantasy',\n",
       " 'Fantasy',\n",
       " 'Fantasy',\n",
       " 'Fantasy',\n",
       " 'Fantasy',\n",
       " 'Thriller',\n",
       " 'Science Fiction',\n",
       " 'Fantasy',\n",
       " 'Fantasy',\n",
       " 'Fantasy',\n",
       " 'Fantasy',\n",
       " 'Fantasy',\n",
       " 'Horror',\n",
       " 'Fantasy',\n",
       " 'Fantasy',\n",
       " 'Fantasy',\n",
       " 'Fantasy',\n",
       " 'Science Fiction',\n",
       " 'Fantasy',\n",
       " 'Fantasy',\n",
       " 'Fantasy',\n",
       " 'Horror',\n",
       " 'Fantasy',\n",
       " 'Fantasy',\n",
       " 'Crime Fiction',\n",
       " 'Fantasy',\n",
       " 'Fantasy',\n",
       " 'Fantasy',\n",
       " 'Fantasy',\n",
       " 'Historical novel',\n",
       " 'Science Fiction',\n",
       " 'Fantasy',\n",
       " 'Horror',\n",
       " 'Fantasy',\n",
       " 'Fantasy',\n",
       " 'Fantasy',\n",
       " 'Science Fiction',\n",
       " 'Fantasy',\n",
       " 'Fantasy',\n",
       " 'Fantasy',\n",
       " 'Fantasy',\n",
       " 'Fantasy',\n",
       " 'Fantasy',\n",
       " 'Fantasy',\n",
       " 'Science Fiction',\n",
       " 'Fantasy',\n",
       " 'Fantasy',\n",
       " 'Fantasy',\n",
       " 'Fantasy',\n",
       " 'Fantasy',\n",
       " 'Fantasy',\n",
       " 'Fantasy',\n",
       " 'Fantasy',\n",
       " 'Fantasy',\n",
       " 'Horror',\n",
       " 'Fantasy',\n",
       " 'Fantasy',\n",
       " 'Fantasy',\n",
       " 'Fantasy',\n",
       " 'Fantasy',\n",
       " 'Fantasy',\n",
       " 'Fantasy',\n",
       " 'Fantasy',\n",
       " 'Fantasy',\n",
       " 'Fantasy',\n",
       " 'Fantasy',\n",
       " 'Fantasy',\n",
       " 'Fantasy',\n",
       " 'Thriller',\n",
       " 'Fantasy',\n",
       " 'Fantasy',\n",
       " 'Fantasy',\n",
       " 'Fantasy',\n",
       " 'Fantasy',\n",
       " 'Fantasy',\n",
       " 'Fantasy',\n",
       " 'Fantasy',\n",
       " 'Fantasy',\n",
       " 'Science Fiction',\n",
       " 'Fantasy',\n",
       " 'Fantasy',\n",
       " 'Fantasy',\n",
       " 'Thriller',\n",
       " 'Fantasy',\n",
       " 'Fantasy',\n",
       " 'Fantasy',\n",
       " 'Fantasy',\n",
       " 'Fantasy',\n",
       " 'Fantasy',\n",
       " 'Fantasy',\n",
       " 'Fantasy',\n",
       " 'Fantasy',\n",
       " 'Fantasy',\n",
       " 'Fantasy',\n",
       " 'Fantasy',\n",
       " 'Fantasy',\n",
       " 'Science Fiction',\n",
       " 'Fantasy',\n",
       " 'Fantasy',\n",
       " 'Fantasy',\n",
       " 'Fantasy',\n",
       " 'Fantasy',\n",
       " 'Fantasy',\n",
       " 'Fantasy',\n",
       " 'Fantasy',\n",
       " 'Fantasy',\n",
       " 'Fantasy',\n",
       " 'Fantasy',\n",
       " 'Fantasy',\n",
       " 'Fantasy',\n",
       " 'Fantasy',\n",
       " 'Fantasy',\n",
       " 'Horror',\n",
       " 'Fantasy',\n",
       " 'Science Fiction',\n",
       " 'Fantasy',\n",
       " 'Historical novel',\n",
       " 'Fantasy',\n",
       " 'Fantasy',\n",
       " 'Fantasy',\n",
       " 'Fantasy',\n",
       " 'Fantasy',\n",
       " 'Fantasy',\n",
       " 'Fantasy',\n",
       " 'Fantasy',\n",
       " 'Fantasy',\n",
       " 'Fantasy',\n",
       " 'Fantasy',\n",
       " 'Fantasy',\n",
       " 'Fantasy',\n",
       " 'Fantasy',\n",
       " 'Fantasy',\n",
       " 'Fantasy',\n",
       " 'Fantasy',\n",
       " 'Fantasy',\n",
       " 'Fantasy',\n",
       " 'Fantasy',\n",
       " 'Fantasy',\n",
       " 'Fantasy',\n",
       " 'Fantasy',\n",
       " 'Fantasy',\n",
       " 'Science Fiction',\n",
       " 'Fantasy',\n",
       " 'Fantasy',\n",
       " 'Thriller',\n",
       " 'Fantasy',\n",
       " 'Fantasy',\n",
       " 'Fantasy',\n",
       " 'Fantasy',\n",
       " 'Fantasy',\n",
       " 'Fantasy',\n",
       " 'Fantasy',\n",
       " 'Fantasy',\n",
       " 'Fantasy',\n",
       " 'Fantasy',\n",
       " 'Fantasy',\n",
       " 'Fantasy',\n",
       " 'Fantasy',\n",
       " 'Fantasy',\n",
       " 'Historical novel',\n",
       " 'Fantasy',\n",
       " 'Fantasy',\n",
       " 'Fantasy',\n",
       " 'Fantasy',\n",
       " 'Fantasy',\n",
       " 'Fantasy',\n",
       " 'Fantasy',\n",
       " 'Fantasy',\n",
       " 'Fantasy',\n",
       " 'Fantasy',\n",
       " 'Fantasy',\n",
       " 'Fantasy',\n",
       " 'Science Fiction',\n",
       " 'Fantasy',\n",
       " 'Fantasy',\n",
       " 'Horror',\n",
       " 'Science Fiction',\n",
       " 'Fantasy',\n",
       " 'Science Fiction',\n",
       " 'Science Fiction',\n",
       " 'Science Fiction',\n",
       " 'Science Fiction',\n",
       " 'Science Fiction',\n",
       " 'Science Fiction',\n",
       " 'Science Fiction',\n",
       " 'Science Fiction',\n",
       " 'Science Fiction',\n",
       " 'Science Fiction',\n",
       " 'Science Fiction',\n",
       " 'Science Fiction',\n",
       " 'Science Fiction',\n",
       " 'Science Fiction',\n",
       " 'Science Fiction',\n",
       " 'Science Fiction',\n",
       " 'Science Fiction',\n",
       " 'Science Fiction',\n",
       " 'Science Fiction',\n",
       " 'Science Fiction',\n",
       " 'Science Fiction',\n",
       " 'Science Fiction',\n",
       " 'Thriller',\n",
       " 'Science Fiction',\n",
       " 'Science Fiction',\n",
       " 'Science Fiction',\n",
       " 'Science Fiction',\n",
       " 'Science Fiction',\n",
       " 'Science Fiction',\n",
       " 'Science Fiction',\n",
       " 'Science Fiction',\n",
       " 'Science Fiction',\n",
       " 'Science Fiction',\n",
       " 'Science Fiction',\n",
       " 'Science Fiction',\n",
       " 'Science Fiction',\n",
       " 'Science Fiction',\n",
       " 'Science Fiction',\n",
       " 'Science Fiction',\n",
       " 'Science Fiction',\n",
       " 'Science Fiction',\n",
       " 'Science Fiction',\n",
       " 'Science Fiction',\n",
       " 'Science Fiction',\n",
       " 'Science Fiction',\n",
       " 'Science Fiction',\n",
       " 'Science Fiction',\n",
       " 'Thriller',\n",
       " 'Science Fiction',\n",
       " 'Science Fiction',\n",
       " 'Science Fiction',\n",
       " 'Science Fiction',\n",
       " 'Science Fiction',\n",
       " 'Science Fiction',\n",
       " 'Science Fiction',\n",
       " 'Science Fiction',\n",
       " 'Science Fiction',\n",
       " 'Science Fiction',\n",
       " 'Science Fiction',\n",
       " 'Science Fiction',\n",
       " 'Science Fiction',\n",
       " 'Science Fiction',\n",
       " 'Science Fiction',\n",
       " 'Science Fiction',\n",
       " 'Science Fiction',\n",
       " 'Science Fiction',\n",
       " 'Science Fiction',\n",
       " 'Science Fiction',\n",
       " 'Science Fiction',\n",
       " 'Science Fiction',\n",
       " 'Science Fiction',\n",
       " 'Science Fiction',\n",
       " 'Science Fiction',\n",
       " 'Science Fiction',\n",
       " 'Science Fiction',\n",
       " 'Science Fiction',\n",
       " 'Science Fiction',\n",
       " 'Science Fiction',\n",
       " 'Science Fiction',\n",
       " 'Science Fiction',\n",
       " 'Science Fiction',\n",
       " 'Science Fiction',\n",
       " 'Science Fiction',\n",
       " 'Science Fiction',\n",
       " 'Science Fiction',\n",
       " 'Science Fiction',\n",
       " 'Science Fiction',\n",
       " 'Historical novel',\n",
       " 'Science Fiction',\n",
       " 'Horror',\n",
       " 'Science Fiction',\n",
       " 'Science Fiction',\n",
       " 'Science Fiction',\n",
       " 'Science Fiction',\n",
       " 'Science Fiction',\n",
       " 'Science Fiction',\n",
       " 'Science Fiction',\n",
       " 'Science Fiction',\n",
       " 'Horror',\n",
       " 'Science Fiction',\n",
       " 'Science Fiction',\n",
       " 'Science Fiction',\n",
       " 'Science Fiction',\n",
       " 'Science Fiction',\n",
       " 'Science Fiction',\n",
       " 'Science Fiction',\n",
       " 'Science Fiction',\n",
       " 'Science Fiction',\n",
       " 'Science Fiction',\n",
       " 'Science Fiction',\n",
       " 'Science Fiction',\n",
       " 'Science Fiction',\n",
       " 'Thriller',\n",
       " 'Science Fiction',\n",
       " 'Science Fiction',\n",
       " 'Science Fiction',\n",
       " 'Historical novel',\n",
       " 'Science Fiction',\n",
       " 'Science Fiction',\n",
       " 'Science Fiction',\n",
       " 'Science Fiction',\n",
       " 'Science Fiction',\n",
       " 'Science Fiction',\n",
       " 'Science Fiction',\n",
       " 'Science Fiction',\n",
       " 'Science Fiction',\n",
       " 'Science Fiction',\n",
       " 'Historical novel',\n",
       " 'Historical novel',\n",
       " 'Science Fiction',\n",
       " 'Science Fiction',\n",
       " 'Science Fiction',\n",
       " 'Science Fiction',\n",
       " 'Science Fiction',\n",
       " 'Science Fiction',\n",
       " 'Science Fiction',\n",
       " 'Thriller',\n",
       " 'Science Fiction',\n",
       " 'Science Fiction',\n",
       " 'Science Fiction',\n",
       " 'Science Fiction',\n",
       " 'Science Fiction',\n",
       " 'Science Fiction',\n",
       " 'Science Fiction',\n",
       " 'Science Fiction',\n",
       " 'Science Fiction',\n",
       " 'Science Fiction',\n",
       " 'Science Fiction',\n",
       " 'Science Fiction',\n",
       " 'Science Fiction',\n",
       " 'Science Fiction',\n",
       " 'Science Fiction',\n",
       " 'Science Fiction',\n",
       " 'Science Fiction',\n",
       " 'Science Fiction',\n",
       " 'Science Fiction',\n",
       " 'Science Fiction',\n",
       " 'Science Fiction',\n",
       " 'Science Fiction',\n",
       " 'Historical novel',\n",
       " 'Science Fiction',\n",
       " 'Science Fiction',\n",
       " 'Science Fiction',\n",
       " 'Science Fiction',\n",
       " 'Science Fiction',\n",
       " 'Science Fiction',\n",
       " 'Science Fiction',\n",
       " 'Science Fiction',\n",
       " 'Science Fiction',\n",
       " 'Science Fiction',\n",
       " 'Science Fiction',\n",
       " 'Science Fiction',\n",
       " 'Science Fiction',\n",
       " 'Science Fiction',\n",
       " 'Thriller',\n",
       " 'Science Fiction',\n",
       " 'Science Fiction',\n",
       " 'Science Fiction',\n",
       " 'Science Fiction',\n",
       " 'Science Fiction',\n",
       " 'Science Fiction',\n",
       " 'Science Fiction',\n",
       " 'Science Fiction',\n",
       " 'Science Fiction',\n",
       " 'Science Fiction',\n",
       " 'Science Fiction',\n",
       " 'Science Fiction',\n",
       " 'Science Fiction',\n",
       " 'Science Fiction',\n",
       " 'Science Fiction',\n",
       " 'Science Fiction',\n",
       " 'Science Fiction',\n",
       " 'Science Fiction',\n",
       " 'Science Fiction',\n",
       " 'Science Fiction',\n",
       " 'Science Fiction',\n",
       " 'Science Fiction',\n",
       " 'Science Fiction',\n",
       " 'Science Fiction',\n",
       " 'Science Fiction',\n",
       " 'Science Fiction',\n",
       " 'Science Fiction',\n",
       " 'Science Fiction',\n",
       " 'Science Fiction',\n",
       " 'Science Fiction',\n",
       " 'Science Fiction',\n",
       " 'Science Fiction',\n",
       " 'Science Fiction',\n",
       " 'Science Fiction',\n",
       " 'Science Fiction',\n",
       " 'Science Fiction',\n",
       " 'Science Fiction',\n",
       " 'Science Fiction',\n",
       " 'Science Fiction',\n",
       " 'Science Fiction',\n",
       " 'Science Fiction',\n",
       " 'Science Fiction',\n",
       " 'Historical novel',\n",
       " 'Science Fiction',\n",
       " 'Science Fiction',\n",
       " 'Science Fiction',\n",
       " 'Science Fiction',\n",
       " 'Science Fiction',\n",
       " 'Science Fiction',\n",
       " 'Science Fiction',\n",
       " 'Science Fiction',\n",
       " 'Science Fiction',\n",
       " 'Science Fiction',\n",
       " 'Science Fiction',\n",
       " 'Science Fiction',\n",
       " 'Science Fiction',\n",
       " 'Horror',\n",
       " 'Science Fiction',\n",
       " 'Science Fiction',\n",
       " 'Science Fiction',\n",
       " 'Horror',\n",
       " 'Science Fiction',\n",
       " 'Science Fiction',\n",
       " 'Science Fiction',\n",
       " 'Science Fiction',\n",
       " 'Thriller',\n",
       " 'Science Fiction',\n",
       " 'Science Fiction',\n",
       " 'Science Fiction',\n",
       " 'Science Fiction',\n",
       " 'Thriller',\n",
       " 'Science Fiction',\n",
       " 'Science Fiction',\n",
       " 'Science Fiction',\n",
       " 'Science Fiction',\n",
       " 'Science Fiction',\n",
       " 'Science Fiction',\n",
       " 'Science Fiction',\n",
       " 'Science Fiction',\n",
       " 'Science Fiction',\n",
       " 'Science Fiction',\n",
       " 'Science Fiction',\n",
       " 'Science Fiction',\n",
       " 'Science Fiction',\n",
       " 'Science Fiction',\n",
       " 'Science Fiction',\n",
       " 'Science Fiction',\n",
       " 'Science Fiction',\n",
       " 'Science Fiction',\n",
       " 'Science Fiction',\n",
       " 'Science Fiction',\n",
       " 'Science Fiction',\n",
       " 'Science Fiction',\n",
       " 'Science Fiction',\n",
       " 'Science Fiction',\n",
       " 'Science Fiction',\n",
       " 'Science Fiction',\n",
       " 'Science Fiction',\n",
       " 'Science Fiction',\n",
       " 'Science Fiction',\n",
       " 'Science Fiction',\n",
       " 'Science Fiction',\n",
       " 'Science Fiction',\n",
       " 'Science Fiction',\n",
       " 'Science Fiction',\n",
       " 'Science Fiction',\n",
       " 'Science Fiction',\n",
       " 'Science Fiction',\n",
       " 'Science Fiction',\n",
       " 'Science Fiction',\n",
       " 'Science Fiction',\n",
       " 'Science Fiction',\n",
       " 'Historical novel',\n",
       " 'Science Fiction',\n",
       " 'Science Fiction',\n",
       " 'Science Fiction',\n",
       " 'Science Fiction',\n",
       " 'Science Fiction',\n",
       " 'Science Fiction',\n",
       " 'Science Fiction',\n",
       " 'Science Fiction',\n",
       " 'Science Fiction',\n",
       " 'Science Fiction',\n",
       " 'Science Fiction',\n",
       " 'Science Fiction',\n",
       " 'Science Fiction',\n",
       " 'Science Fiction',\n",
       " 'Science Fiction',\n",
       " 'Science Fiction',\n",
       " 'Science Fiction',\n",
       " 'Science Fiction',\n",
       " 'Science Fiction',\n",
       " 'Science Fiction',\n",
       " 'Science Fiction',\n",
       " 'Science Fiction',\n",
       " 'Science Fiction',\n",
       " 'Science Fiction',\n",
       " 'Science Fiction',\n",
       " 'Science Fiction',\n",
       " 'Science Fiction',\n",
       " 'Science Fiction',\n",
       " 'Science Fiction',\n",
       " 'Science Fiction',\n",
       " 'Science Fiction',\n",
       " 'Science Fiction',\n",
       " 'Science Fiction',\n",
       " 'Horror',\n",
       " 'Science Fiction',\n",
       " 'Science Fiction',\n",
       " 'Science Fiction',\n",
       " 'Science Fiction',\n",
       " 'Science Fiction',\n",
       " 'Science Fiction',\n",
       " 'Science Fiction',\n",
       " 'Science Fiction',\n",
       " 'Science Fiction',\n",
       " 'Science Fiction',\n",
       " 'Science Fiction',\n",
       " 'Science Fiction',\n",
       " 'Science Fiction',\n",
       " 'Science Fiction',\n",
       " 'Science Fiction',\n",
       " 'Science Fiction',\n",
       " 'Science Fiction',\n",
       " 'Science Fiction',\n",
       " 'Science Fiction',\n",
       " 'Science Fiction',\n",
       " 'Thriller',\n",
       " 'Science Fiction',\n",
       " 'Science Fiction',\n",
       " 'Science Fiction',\n",
       " 'Science Fiction',\n",
       " 'Science Fiction',\n",
       " 'Science Fiction',\n",
       " 'Science Fiction',\n",
       " 'Science Fiction',\n",
       " 'Science Fiction',\n",
       " 'Science Fiction',\n",
       " 'Science Fiction',\n",
       " 'Science Fiction',\n",
       " 'Science Fiction',\n",
       " 'Science Fiction',\n",
       " 'Science Fiction',\n",
       " 'Science Fiction',\n",
       " 'Science Fiction',\n",
       " 'Science Fiction',\n",
       " 'Science Fiction',\n",
       " 'Science Fiction',\n",
       " 'Science Fiction',\n",
       " 'Science Fiction',\n",
       " 'Science Fiction',\n",
       " 'Science Fiction',\n",
       " 'Science Fiction',\n",
       " 'Science Fiction',\n",
       " 'Science Fiction',\n",
       " 'Science Fiction',\n",
       " 'Thriller',\n",
       " 'Science Fiction',\n",
       " 'Science Fiction',\n",
       " 'Science Fiction',\n",
       " 'Science Fiction',\n",
       " 'Science Fiction',\n",
       " 'Science Fiction',\n",
       " 'Science Fiction',\n",
       " 'Science Fiction',\n",
       " 'Science Fiction',\n",
       " 'Science Fiction',\n",
       " 'Science Fiction',\n",
       " 'Science Fiction',\n",
       " 'Science Fiction',\n",
       " 'Science Fiction',\n",
       " 'Science Fiction',\n",
       " 'Science Fiction',\n",
       " 'Science Fiction',\n",
       " 'Science Fiction',\n",
       " 'Science Fiction',\n",
       " 'Horror',\n",
       " 'Science Fiction',\n",
       " 'Science Fiction',\n",
       " 'Science Fiction',\n",
       " 'Science Fiction',\n",
       " 'Science Fiction',\n",
       " 'Science Fiction',\n",
       " 'Horror',\n",
       " 'Science Fiction',\n",
       " 'Fantasy',\n",
       " 'Science Fiction',\n",
       " 'Science Fiction',\n",
       " 'Science Fiction',\n",
       " 'Science Fiction',\n",
       " 'Science Fiction',\n",
       " 'Science Fiction',\n",
       " 'Science Fiction',\n",
       " 'Science Fiction',\n",
       " 'Science Fiction',\n",
       " 'Science Fiction',\n",
       " 'Science Fiction',\n",
       " 'Science Fiction',\n",
       " 'Science Fiction',\n",
       " 'Science Fiction',\n",
       " 'Science Fiction',\n",
       " 'Science Fiction',\n",
       " 'Science Fiction',\n",
       " 'Science Fiction',\n",
       " 'Science Fiction',\n",
       " 'Science Fiction',\n",
       " 'Science Fiction',\n",
       " 'Science Fiction',\n",
       " 'Historical novel',\n",
       " 'Science Fiction',\n",
       " 'Science Fiction',\n",
       " 'Science Fiction',\n",
       " 'Science Fiction',\n",
       " 'Science Fiction',\n",
       " 'Science Fiction',\n",
       " 'Science Fiction',\n",
       " 'Science Fiction',\n",
       " 'Science Fiction',\n",
       " 'Science Fiction',\n",
       " 'Science Fiction',\n",
       " 'Science Fiction',\n",
       " 'Science Fiction',\n",
       " 'Science Fiction',\n",
       " 'Science Fiction',\n",
       " 'Science Fiction',\n",
       " 'Science Fiction',\n",
       " 'Science Fiction',\n",
       " 'Science Fiction',\n",
       " 'Science Fiction',\n",
       " 'Science Fiction',\n",
       " 'Science Fiction',\n",
       " 'Science Fiction',\n",
       " 'Science Fiction',\n",
       " 'Science Fiction',\n",
       " 'Historical novel',\n",
       " 'Science Fiction',\n",
       " 'Science Fiction',\n",
       " 'Thriller',\n",
       " 'Historical novel',\n",
       " 'Science Fiction',\n",
       " 'Horror',\n",
       " 'Science Fiction',\n",
       " 'Thriller',\n",
       " 'Science Fiction',\n",
       " 'Science Fiction',\n",
       " 'Science Fiction',\n",
       " 'Fantasy',\n",
       " 'Science Fiction',\n",
       " 'Science Fiction',\n",
       " 'Science Fiction',\n",
       " 'Science Fiction',\n",
       " 'Science Fiction',\n",
       " 'Science Fiction',\n",
       " 'Science Fiction',\n",
       " 'Science Fiction',\n",
       " 'Science Fiction',\n",
       " 'Science Fiction',\n",
       " 'Science Fiction',\n",
       " 'Science Fiction',\n",
       " 'Science Fiction',\n",
       " 'Science Fiction',\n",
       " 'Science Fiction',\n",
       " 'Science Fiction',\n",
       " 'Science Fiction',\n",
       " 'Science Fiction',\n",
       " 'Science Fiction',\n",
       " 'Science Fiction',\n",
       " 'Science Fiction',\n",
       " 'Science Fiction',\n",
       " 'Science Fiction',\n",
       " 'Science Fiction',\n",
       " 'Thriller',\n",
       " 'Science Fiction',\n",
       " 'Science Fiction',\n",
       " 'Science Fiction',\n",
       " 'Science Fiction',\n",
       " 'Science Fiction',\n",
       " 'Science Fiction',\n",
       " 'Science Fiction',\n",
       " 'Science Fiction',\n",
       " 'Science Fiction',\n",
       " 'Science Fiction',\n",
       " 'Science Fiction',\n",
       " 'Science Fiction',\n",
       " 'Science Fiction',\n",
       " ...]"
      ]
     },
     "execution_count": 51,
     "metadata": {},
     "output_type": "execute_result"
    }
   ],
   "source": [
    "predicted_genres"
   ]
  },
  {
   "cell_type": "code",
   "execution_count": 52,
   "metadata": {
    "colab": {
     "base_uri": "https://localhost:8080/"
    },
    "id": "FxwTHP6NoAmV",
    "outputId": "1a42ece9-d2e3-4e00-e937-f8db1a077604"
   },
   "outputs": [
    {
     "data": {
      "text/plain": [
       "{'Fantasy': 0,\n",
       " 'Science Fiction': 1,\n",
       " 'Crime Fiction': 2,\n",
       " 'Historical novel': 3,\n",
       " 'Horror': 4,\n",
       " 'Thriller': 5}"
      ]
     },
     "execution_count": 52,
     "metadata": {},
     "output_type": "execute_result"
    }
   ],
   "source": [
    "mapper"
   ]
  },
  {
   "cell_type": "code",
   "execution_count": 54,
   "metadata": {
    "colab": {
     "base_uri": "https://localhost:8080/"
    },
    "id": "KJs6QNILoAqb",
    "outputId": "001b2225-073f-4908-bcff-fa137f4aecdb"
   },
   "outputs": [
    {
     "data": {
      "text/plain": [
       "{0: 'Fantasy',\n",
       " 1: 'Science Fiction',\n",
       " 2: 'Crime Fiction',\n",
       " 3: 'Historical novel',\n",
       " 4: 'Horror',\n",
       " 5: 'Thriller'}"
      ]
     },
     "execution_count": 54,
     "metadata": {},
     "output_type": "execute_result"
    }
   ],
   "source": [
    "#mapping the training genre as well\n",
    "\n",
    "newmap=dict([(value,key) for key,value in mapper.items()])\n",
    "newmap"
   ]
  },
  {
   "cell_type": "code",
   "execution_count": 56,
   "metadata": {
    "colab": {
     "base_uri": "https://localhost:8080/",
     "height": 206
    },
    "id": "vG6OGaikqMDs",
    "outputId": "e4cc10cc-d54d-4df1-f398-b1383071b803"
   },
   "outputs": [
    {
     "data": {
      "text/html": [
       "\n",
       "  <div id=\"df-c11a5842-1f13-462f-a4ca-b1ac458f0d49\">\n",
       "    <div class=\"colab-df-container\">\n",
       "      <div>\n",
       "<style scoped>\n",
       "    .dataframe tbody tr th:only-of-type {\n",
       "        vertical-align: middle;\n",
       "    }\n",
       "\n",
       "    .dataframe tbody tr th {\n",
       "        vertical-align: top;\n",
       "    }\n",
       "\n",
       "    .dataframe thead th {\n",
       "        text-align: right;\n",
       "    }\n",
       "</style>\n",
       "<table border=\"1\" class=\"dataframe\">\n",
       "  <thead>\n",
       "    <tr style=\"text-align: right;\">\n",
       "      <th></th>\n",
       "      <th>book_id</th>\n",
       "      <th>book_name</th>\n",
       "      <th>genre</th>\n",
       "      <th>summary</th>\n",
       "      <th>Actual Genre</th>\n",
       "      <th>Predicted_genre</th>\n",
       "    </tr>\n",
       "  </thead>\n",
       "  <tbody>\n",
       "    <tr>\n",
       "      <th>0</th>\n",
       "      <td>3248537</td>\n",
       "      <td>Drowned Wednesday</td>\n",
       "      <td>0</td>\n",
       "      <td>drown wednesday first truste among morrow day ...</td>\n",
       "      <td>Fantasy</td>\n",
       "      <td>Fantasy</td>\n",
       "    </tr>\n",
       "    <tr>\n",
       "      <th>1</th>\n",
       "      <td>27796919</td>\n",
       "      <td>The Lost Hero</td>\n",
       "      <td>0</td>\n",
       "      <td>book open jason awaken school bu unabl rememb ...</td>\n",
       "      <td>Fantasy</td>\n",
       "      <td>Fantasy</td>\n",
       "    </tr>\n",
       "    <tr>\n",
       "      <th>2</th>\n",
       "      <td>3910776</td>\n",
       "      <td>The Eyes of the Overworld</td>\n",
       "      <td>0</td>\n",
       "      <td>cugel easili persuad merchant fianosth attempt...</td>\n",
       "      <td>Fantasy</td>\n",
       "      <td>Fantasy</td>\n",
       "    </tr>\n",
       "    <tr>\n",
       "      <th>3</th>\n",
       "      <td>5969644</td>\n",
       "      <td>Magic's Promise</td>\n",
       "      <td>0</td>\n",
       "      <td>book open herald mage vanyel return countri va...</td>\n",
       "      <td>Fantasy</td>\n",
       "      <td>Fantasy</td>\n",
       "    </tr>\n",
       "    <tr>\n",
       "      <th>4</th>\n",
       "      <td>3173445</td>\n",
       "      <td>Taran Wanderer</td>\n",
       "      <td>0</td>\n",
       "      <td>taran gurgi return caer dallben follow event t...</td>\n",
       "      <td>Fantasy</td>\n",
       "      <td>Fantasy</td>\n",
       "    </tr>\n",
       "  </tbody>\n",
       "</table>\n",
       "</div>\n",
       "      <button class=\"colab-df-convert\" onclick=\"convertToInteractive('df-c11a5842-1f13-462f-a4ca-b1ac458f0d49')\"\n",
       "              title=\"Convert this dataframe to an interactive table.\"\n",
       "              style=\"display:none;\">\n",
       "        \n",
       "  <svg xmlns=\"http://www.w3.org/2000/svg\" height=\"24px\"viewBox=\"0 0 24 24\"\n",
       "       width=\"24px\">\n",
       "    <path d=\"M0 0h24v24H0V0z\" fill=\"none\"/>\n",
       "    <path d=\"M18.56 5.44l.94 2.06.94-2.06 2.06-.94-2.06-.94-.94-2.06-.94 2.06-2.06.94zm-11 1L8.5 8.5l.94-2.06 2.06-.94-2.06-.94L8.5 2.5l-.94 2.06-2.06.94zm10 10l.94 2.06.94-2.06 2.06-.94-2.06-.94-.94-2.06-.94 2.06-2.06.94z\"/><path d=\"M17.41 7.96l-1.37-1.37c-.4-.4-.92-.59-1.43-.59-.52 0-1.04.2-1.43.59L10.3 9.45l-7.72 7.72c-.78.78-.78 2.05 0 2.83L4 21.41c.39.39.9.59 1.41.59.51 0 1.02-.2 1.41-.59l7.78-7.78 2.81-2.81c.8-.78.8-2.07 0-2.86zM5.41 20L4 18.59l7.72-7.72 1.47 1.35L5.41 20z\"/>\n",
       "  </svg>\n",
       "      </button>\n",
       "      \n",
       "  <style>\n",
       "    .colab-df-container {\n",
       "      display:flex;\n",
       "      flex-wrap:wrap;\n",
       "      gap: 12px;\n",
       "    }\n",
       "\n",
       "    .colab-df-convert {\n",
       "      background-color: #E8F0FE;\n",
       "      border: none;\n",
       "      border-radius: 50%;\n",
       "      cursor: pointer;\n",
       "      display: none;\n",
       "      fill: #1967D2;\n",
       "      height: 32px;\n",
       "      padding: 0 0 0 0;\n",
       "      width: 32px;\n",
       "    }\n",
       "\n",
       "    .colab-df-convert:hover {\n",
       "      background-color: #E2EBFA;\n",
       "      box-shadow: 0px 1px 2px rgba(60, 64, 67, 0.3), 0px 1px 3px 1px rgba(60, 64, 67, 0.15);\n",
       "      fill: #174EA6;\n",
       "    }\n",
       "\n",
       "    [theme=dark] .colab-df-convert {\n",
       "      background-color: #3B4455;\n",
       "      fill: #D2E3FC;\n",
       "    }\n",
       "\n",
       "    [theme=dark] .colab-df-convert:hover {\n",
       "      background-color: #434B5C;\n",
       "      box-shadow: 0px 1px 3px 1px rgba(0, 0, 0, 0.15);\n",
       "      filter: drop-shadow(0px 1px 2px rgba(0, 0, 0, 0.3));\n",
       "      fill: #FFFFFF;\n",
       "    }\n",
       "  </style>\n",
       "\n",
       "      <script>\n",
       "        const buttonEl =\n",
       "          document.querySelector('#df-c11a5842-1f13-462f-a4ca-b1ac458f0d49 button.colab-df-convert');\n",
       "        buttonEl.style.display =\n",
       "          google.colab.kernel.accessAllowed ? 'block' : 'none';\n",
       "\n",
       "        async function convertToInteractive(key) {\n",
       "          const element = document.querySelector('#df-c11a5842-1f13-462f-a4ca-b1ac458f0d49');\n",
       "          const dataTable =\n",
       "            await google.colab.kernel.invokeFunction('convertToInteractive',\n",
       "                                                     [key], {});\n",
       "          if (!dataTable) return;\n",
       "\n",
       "          const docLinkHtml = 'Like what you see? Visit the ' +\n",
       "            '<a target=\"_blank\" href=https://colab.research.google.com/notebooks/data_table.ipynb>data table notebook</a>'\n",
       "            + ' to learn more about interactive tables.';\n",
       "          element.innerHTML = '';\n",
       "          dataTable['output_type'] = 'display_data';\n",
       "          await google.colab.output.renderOutput(dataTable, element);\n",
       "          const docLink = document.createElement('div');\n",
       "          docLink.innerHTML = docLinkHtml;\n",
       "          element.appendChild(docLink);\n",
       "        }\n",
       "      </script>\n",
       "    </div>\n",
       "  </div>\n",
       "  "
      ],
      "text/plain": [
       "    book_id                  book_name  genre  \\\n",
       "0   3248537          Drowned Wednesday      0   \n",
       "1  27796919              The Lost Hero      0   \n",
       "2   3910776  The Eyes of the Overworld      0   \n",
       "3   5969644            Magic's Promise      0   \n",
       "4   3173445             Taran Wanderer      0   \n",
       "\n",
       "                                             summary Actual Genre  \\\n",
       "0  drown wednesday first truste among morrow day ...      Fantasy   \n",
       "1  book open jason awaken school bu unabl rememb ...      Fantasy   \n",
       "2  cugel easili persuad merchant fianosth attempt...      Fantasy   \n",
       "3  book open herald mage vanyel return countri va...      Fantasy   \n",
       "4  taran gurgi return caer dallben follow event t...      Fantasy   \n",
       "\n",
       "  Predicted_genre  \n",
       "0         Fantasy  \n",
       "1         Fantasy  \n",
       "2         Fantasy  \n",
       "3         Fantasy  \n",
       "4         Fantasy  "
      ]
     },
     "execution_count": 56,
     "metadata": {},
     "output_type": "execute_result"
    }
   ],
   "source": [
    "df[\"Actual Genre\"]=df[\"genre\"].map(newmap)\n",
    "df[\"Predicted_genre\"]=np.array(predicted_genres)\n",
    "df.head()"
   ]
  },
  {
   "cell_type": "code",
   "execution_count": 57,
   "metadata": {
    "colab": {
     "base_uri": "https://localhost:8080/",
     "height": 424
    },
    "id": "BCf3cI-_qfLX",
    "outputId": "409cd380-58fd-44d1-a610-8deb82445c32"
   },
   "outputs": [
    {
     "data": {
      "text/html": [
       "\n",
       "  <div id=\"df-2842260b-409f-49ce-bb16-3b3f44b8ce66\">\n",
       "    <div class=\"colab-df-container\">\n",
       "      <div>\n",
       "<style scoped>\n",
       "    .dataframe tbody tr th:only-of-type {\n",
       "        vertical-align: middle;\n",
       "    }\n",
       "\n",
       "    .dataframe tbody tr th {\n",
       "        vertical-align: top;\n",
       "    }\n",
       "\n",
       "    .dataframe thead th {\n",
       "        text-align: right;\n",
       "    }\n",
       "</style>\n",
       "<table border=\"1\" class=\"dataframe\">\n",
       "  <thead>\n",
       "    <tr style=\"text-align: right;\">\n",
       "      <th></th>\n",
       "      <th>book_name</th>\n",
       "      <th>summary</th>\n",
       "      <th>Actual Genre</th>\n",
       "      <th>Predicted_genre</th>\n",
       "    </tr>\n",
       "  </thead>\n",
       "  <tbody>\n",
       "    <tr>\n",
       "      <th>0</th>\n",
       "      <td>Drowned Wednesday</td>\n",
       "      <td>drown wednesday first truste among morrow day ...</td>\n",
       "      <td>Fantasy</td>\n",
       "      <td>Fantasy</td>\n",
       "    </tr>\n",
       "    <tr>\n",
       "      <th>1</th>\n",
       "      <td>The Lost Hero</td>\n",
       "      <td>book open jason awaken school bu unabl rememb ...</td>\n",
       "      <td>Fantasy</td>\n",
       "      <td>Fantasy</td>\n",
       "    </tr>\n",
       "    <tr>\n",
       "      <th>2</th>\n",
       "      <td>The Eyes of the Overworld</td>\n",
       "      <td>cugel easili persuad merchant fianosth attempt...</td>\n",
       "      <td>Fantasy</td>\n",
       "      <td>Fantasy</td>\n",
       "    </tr>\n",
       "    <tr>\n",
       "      <th>3</th>\n",
       "      <td>Magic's Promise</td>\n",
       "      <td>book open herald mage vanyel return countri va...</td>\n",
       "      <td>Fantasy</td>\n",
       "      <td>Fantasy</td>\n",
       "    </tr>\n",
       "    <tr>\n",
       "      <th>4</th>\n",
       "      <td>Taran Wanderer</td>\n",
       "      <td>taran gurgi return caer dallben follow event t...</td>\n",
       "      <td>Fantasy</td>\n",
       "      <td>Fantasy</td>\n",
       "    </tr>\n",
       "    <tr>\n",
       "      <th>...</th>\n",
       "      <td>...</td>\n",
       "      <td>...</td>\n",
       "      <td>...</td>\n",
       "      <td>...</td>\n",
       "    </tr>\n",
       "    <tr>\n",
       "      <th>2995</th>\n",
       "      <td>White Death</td>\n",
       "      <td>novel numa file kurt austin adventur novel mai...</td>\n",
       "      <td>Thriller</td>\n",
       "      <td>Science Fiction</td>\n",
       "    </tr>\n",
       "    <tr>\n",
       "      <th>2996</th>\n",
       "      <td>Venus with Pistol</td>\n",
       "      <td>gilbert kemp dealer special antiqu gun london ...</td>\n",
       "      <td>Thriller</td>\n",
       "      <td>Thriller</td>\n",
       "    </tr>\n",
       "    <tr>\n",
       "      <th>2997</th>\n",
       "      <td>Blackwater</td>\n",
       "      <td>know deep davey alway live shadow older brothe...</td>\n",
       "      <td>Thriller</td>\n",
       "      <td>Thriller</td>\n",
       "    </tr>\n",
       "    <tr>\n",
       "      <th>2998</th>\n",
       "      <td>The Rainbow and the Rose</td>\n",
       "      <td>stori concern life johnni pasco retir commerci...</td>\n",
       "      <td>Thriller</td>\n",
       "      <td>Thriller</td>\n",
       "    </tr>\n",
       "    <tr>\n",
       "      <th>2999</th>\n",
       "      <td>Chiefs</td>\n",
       "      <td>first chief henri lee novel open grow town del...</td>\n",
       "      <td>Thriller</td>\n",
       "      <td>Thriller</td>\n",
       "    </tr>\n",
       "  </tbody>\n",
       "</table>\n",
       "<p>3000 rows × 4 columns</p>\n",
       "</div>\n",
       "      <button class=\"colab-df-convert\" onclick=\"convertToInteractive('df-2842260b-409f-49ce-bb16-3b3f44b8ce66')\"\n",
       "              title=\"Convert this dataframe to an interactive table.\"\n",
       "              style=\"display:none;\">\n",
       "        \n",
       "  <svg xmlns=\"http://www.w3.org/2000/svg\" height=\"24px\"viewBox=\"0 0 24 24\"\n",
       "       width=\"24px\">\n",
       "    <path d=\"M0 0h24v24H0V0z\" fill=\"none\"/>\n",
       "    <path d=\"M18.56 5.44l.94 2.06.94-2.06 2.06-.94-2.06-.94-.94-2.06-.94 2.06-2.06.94zm-11 1L8.5 8.5l.94-2.06 2.06-.94-2.06-.94L8.5 2.5l-.94 2.06-2.06.94zm10 10l.94 2.06.94-2.06 2.06-.94-2.06-.94-.94-2.06-.94 2.06-2.06.94z\"/><path d=\"M17.41 7.96l-1.37-1.37c-.4-.4-.92-.59-1.43-.59-.52 0-1.04.2-1.43.59L10.3 9.45l-7.72 7.72c-.78.78-.78 2.05 0 2.83L4 21.41c.39.39.9.59 1.41.59.51 0 1.02-.2 1.41-.59l7.78-7.78 2.81-2.81c.8-.78.8-2.07 0-2.86zM5.41 20L4 18.59l7.72-7.72 1.47 1.35L5.41 20z\"/>\n",
       "  </svg>\n",
       "      </button>\n",
       "      \n",
       "  <style>\n",
       "    .colab-df-container {\n",
       "      display:flex;\n",
       "      flex-wrap:wrap;\n",
       "      gap: 12px;\n",
       "    }\n",
       "\n",
       "    .colab-df-convert {\n",
       "      background-color: #E8F0FE;\n",
       "      border: none;\n",
       "      border-radius: 50%;\n",
       "      cursor: pointer;\n",
       "      display: none;\n",
       "      fill: #1967D2;\n",
       "      height: 32px;\n",
       "      padding: 0 0 0 0;\n",
       "      width: 32px;\n",
       "    }\n",
       "\n",
       "    .colab-df-convert:hover {\n",
       "      background-color: #E2EBFA;\n",
       "      box-shadow: 0px 1px 2px rgba(60, 64, 67, 0.3), 0px 1px 3px 1px rgba(60, 64, 67, 0.15);\n",
       "      fill: #174EA6;\n",
       "    }\n",
       "\n",
       "    [theme=dark] .colab-df-convert {\n",
       "      background-color: #3B4455;\n",
       "      fill: #D2E3FC;\n",
       "    }\n",
       "\n",
       "    [theme=dark] .colab-df-convert:hover {\n",
       "      background-color: #434B5C;\n",
       "      box-shadow: 0px 1px 3px 1px rgba(0, 0, 0, 0.15);\n",
       "      filter: drop-shadow(0px 1px 2px rgba(0, 0, 0, 0.3));\n",
       "      fill: #FFFFFF;\n",
       "    }\n",
       "  </style>\n",
       "\n",
       "      <script>\n",
       "        const buttonEl =\n",
       "          document.querySelector('#df-2842260b-409f-49ce-bb16-3b3f44b8ce66 button.colab-df-convert');\n",
       "        buttonEl.style.display =\n",
       "          google.colab.kernel.accessAllowed ? 'block' : 'none';\n",
       "\n",
       "        async function convertToInteractive(key) {\n",
       "          const element = document.querySelector('#df-2842260b-409f-49ce-bb16-3b3f44b8ce66');\n",
       "          const dataTable =\n",
       "            await google.colab.kernel.invokeFunction('convertToInteractive',\n",
       "                                                     [key], {});\n",
       "          if (!dataTable) return;\n",
       "\n",
       "          const docLinkHtml = 'Like what you see? Visit the ' +\n",
       "            '<a target=\"_blank\" href=https://colab.research.google.com/notebooks/data_table.ipynb>data table notebook</a>'\n",
       "            + ' to learn more about interactive tables.';\n",
       "          element.innerHTML = '';\n",
       "          dataTable['output_type'] = 'display_data';\n",
       "          await google.colab.output.renderOutput(dataTable, element);\n",
       "          const docLink = document.createElement('div');\n",
       "          docLink.innerHTML = docLinkHtml;\n",
       "          element.appendChild(docLink);\n",
       "        }\n",
       "      </script>\n",
       "    </div>\n",
       "  </div>\n",
       "  "
      ],
      "text/plain": [
       "                      book_name  \\\n",
       "0             Drowned Wednesday   \n",
       "1                 The Lost Hero   \n",
       "2     The Eyes of the Overworld   \n",
       "3               Magic's Promise   \n",
       "4                Taran Wanderer   \n",
       "...                         ...   \n",
       "2995                White Death   \n",
       "2996          Venus with Pistol   \n",
       "2997                 Blackwater   \n",
       "2998   The Rainbow and the Rose   \n",
       "2999                     Chiefs   \n",
       "\n",
       "                                                summary Actual Genre  \\\n",
       "0     drown wednesday first truste among morrow day ...      Fantasy   \n",
       "1     book open jason awaken school bu unabl rememb ...      Fantasy   \n",
       "2     cugel easili persuad merchant fianosth attempt...      Fantasy   \n",
       "3     book open herald mage vanyel return countri va...      Fantasy   \n",
       "4     taran gurgi return caer dallben follow event t...      Fantasy   \n",
       "...                                                 ...          ...   \n",
       "2995  novel numa file kurt austin adventur novel mai...     Thriller   \n",
       "2996  gilbert kemp dealer special antiqu gun london ...     Thriller   \n",
       "2997  know deep davey alway live shadow older brothe...     Thriller   \n",
       "2998  stori concern life johnni pasco retir commerci...     Thriller   \n",
       "2999  first chief henri lee novel open grow town del...     Thriller   \n",
       "\n",
       "      Predicted_genre  \n",
       "0             Fantasy  \n",
       "1             Fantasy  \n",
       "2             Fantasy  \n",
       "3             Fantasy  \n",
       "4             Fantasy  \n",
       "...               ...  \n",
       "2995  Science Fiction  \n",
       "2996         Thriller  \n",
       "2997         Thriller  \n",
       "2998         Thriller  \n",
       "2999         Thriller  \n",
       "\n",
       "[3000 rows x 4 columns]"
      ]
     },
     "execution_count": 57,
     "metadata": {},
     "output_type": "execute_result"
    }
   ],
   "source": [
    "df=df[['book_name','summary','Actual Genre','Predicted_genre']]\n",
    "df"
   ]
  },
  {
   "cell_type": "code",
   "execution_count": 58,
   "metadata": {
    "colab": {
     "base_uri": "https://localhost:8080/"
    },
    "id": "8BmE5sldqoCt",
    "outputId": "6f076859-0a22-40d2-87c3-e05d2666c8fd"
   },
   "outputs": [
    {
     "data": {
      "text/plain": [
       "{'Fantasy': 500,\n",
       " 'Science Fiction': 500,\n",
       " 'Crime Fiction': 500,\n",
       " 'Historical novel': 500,\n",
       " 'Horror': 500,\n",
       " 'Thriller': 500}"
      ]
     },
     "execution_count": 58,
     "metadata": {},
     "output_type": "execute_result"
    }
   ],
   "source": [
    "dict(Counter(df[\"Actual Genre\"].values))"
   ]
  },
  {
   "cell_type": "code",
   "execution_count": 60,
   "metadata": {
    "colab": {
     "base_uri": "https://localhost:8080/"
    },
    "id": "LlF-2Qifqw0G",
    "outputId": "12db3aec-643d-4ebb-da6e-ddd217b6d99e"
   },
   "outputs": [
    {
     "data": {
      "text/plain": [
       "{'Fantasy': 462,\n",
       " 'Science Fiction': 536,\n",
       " 'Thriller': 477,\n",
       " 'Horror': 504,\n",
       " 'Historical novel': 501,\n",
       " 'Crime Fiction': 520}"
      ]
     },
     "execution_count": 60,
     "metadata": {},
     "output_type": "execute_result"
    }
   ],
   "source": [
    "dict(Counter(df[\"Predicted_genre\"].values))"
   ]
  },
  {
   "cell_type": "code",
   "execution_count": 63,
   "metadata": {
    "colab": {
     "base_uri": "https://localhost:8080/",
     "height": 665
    },
    "id": "3FCDVouTq1dB",
    "outputId": "ba9fac38-d33a-458a-8880-83136e751cc8"
   },
   "outputs": [
    {
     "data": {
      "text/plain": [
       "(array([0, 1, 2, 3, 4, 5]),\n",
       " [Text(0, 0, 'Fantasy'),\n",
       "  Text(1, 0, 'Science Fiction'),\n",
       "  Text(2, 0, 'Thriller'),\n",
       "  Text(3, 0, 'Horror'),\n",
       "  Text(4, 0, 'Historical novel'),\n",
       "  Text(5, 0, 'Crime Fiction')])"
      ]
     },
     "execution_count": 63,
     "metadata": {},
     "output_type": "execute_result"
    },
    {
     "data": {
      "image/png": "[encoded data removed]",
      "text/plain": [
       "<Figure size 640x480 with 1 Axes>"
      ]
     },
     "metadata": {},
     "output_type": "display_data"
    }
   ],
   "source": [
    "sns.countplot(x=df[\"Predicted_genre\"])\n",
    "plt.xticks(rotation='vertical')"
   ]
  },
  {
   "cell_type": "code",
   "execution_count": 64,
   "metadata": {
    "id": "MbjXtRHbrAJB"
   },
   "outputs": [],
   "source": [
    "#saving the model\n",
    "\n",
    "import pickle\n",
    "file=open(\"bookgenremodels.pkl\",'wb')\n",
    "pickle.dump(mb,file)\n",
    "file.close()"
   ]
  },
  {
   "cell_type": "code",
   "execution_count": 65,
   "metadata": {
    "colab": {
     "base_uri": "https://localhost:8080/",
     "height": 157
    },
    "id": "97cNyO1HrVhs",
    "outputId": "0ada41f0-8dd7-4fae-ef4b-ae0fe4b391a8"
   },
   "outputs": [
    {
     "data": {
      "application/vnd.google.colaboratory.intrinsic+json": {
       "type": "string"
      },
      "text/plain": [
       "'book open jason awaken school bu unabl rememb anyth past sit next piper mclean leo valdez call name say girlfriend best friend respect three part class field trip grand canyon arriv classmat dylan turn venti storm spirit attack trio trip leader coach gleeson hedg ensu fight jason surpris everyon includ one coin turn sword us battl storm spirit coach hedg reveal satyr fight taken captiv flee spirit battl fli chariot arriv rescu trio one peopl annabeth upset discov miss boyfriend perci jackson expect annabeth seek perci told vision goddess hera look guy one shoe turn jason shoe destroy fight jason piper leo told demigod taken back camp half blood meet greek demigod child like leo reveal son hephaestu piper daughter aphrodit jason son zeu though hera tell champion jason later discov full brother zeu demigod daughter thalia grace hunter artemi shortli arriv three given quest rescu hera captur set soon discov enemi work order gaea overthrow god quest encount thalia hunter look perci thalia jason reunit first sinc jason captur age two way aeolu castl jason leo piper becom separ thalia promis meet wolf hous last place thalia seen jason meet nearli apprehend aeolu gaea order trio manag escap thank melli aeolu former assist end san francisco thank result dream piper aphrodit land san francisco trio rush mt diablo fight giant enceladu kidnap piper father manag kill giant save piper father rush wolf hous free hera although hero hunter save hera king giant porphyrion rise fulli disappear hole earth jason memori start return rememb hero roman counterpart camp half blood somewher near san francisco son jupit zeu roman aspect realiz hera also known juno switch perci jackson roman camp memori life hope two camp would ultim work togeth fight giant defeat goddess gaea'"
      ]
     },
     "execution_count": 65,
     "metadata": {},
     "output_type": "execute_result"
    }
   ],
   "source": [
    "df[\"summary\"].iloc[1]"
   ]
  },
  {
   "cell_type": "code",
   "execution_count": 66,
   "metadata": {
    "colab": {
     "base_uri": "https://localhost:8080/",
     "height": 75
    },
    "id": "BNIpAEq4rYvj",
    "outputId": "f2d836b7-6ae4-49e1-a18b-7fc1569fabb5"
   },
   "outputs": [
    {
     "data": {
      "text/html": [
       "<style>#sk-container-id-1 {color: black;background-color: white;}#sk-container-id-1 pre{padding: 0;}#sk-container-id-1 div.sk-toggleable {background-color: white;}#sk-container-id-1 label.sk-toggleable__label {cursor: pointer;display: block;width: 100%;margin-bottom: 0;padding: 0.3em;box-sizing: border-box;text-align: center;}#sk-container-id-1 label.sk-toggleable__label-arrow:before {content: \"▸\";float: left;margin-right: 0.25em;color: #696969;}#sk-container-id-1 label.sk-toggleable__label-arrow:hover:before {color: black;}#sk-container-id-1 div.sk-estimator:hover label.sk-toggleable__label-arrow:before {color: black;}#sk-container-id-1 div.sk-toggleable__content {max-height: 0;max-width: 0;overflow: hidden;text-align: left;background-color: #f0f8ff;}#sk-container-id-1 div.sk-toggleable__content pre {margin: 0.2em;color: black;border-radius: 0.25em;background-color: #f0f8ff;}#sk-container-id-1 input.sk-toggleable__control:checked~div.sk-toggleable__content {max-height: 200px;max-width: 100%;overflow: auto;}#sk-container-id-1 input.sk-toggleable__control:checked~label.sk-toggleable__label-arrow:before {content: \"▾\";}#sk-container-id-1 div.sk-estimator input.sk-toggleable__control:checked~label.sk-toggleable__label {background-color: #d4ebff;}#sk-container-id-1 div.sk-label input.sk-toggleable__control:checked~label.sk-toggleable__label {background-color: #d4ebff;}#sk-container-id-1 input.sk-hidden--visually {border: 0;clip: rect(1px 1px 1px 1px);clip: rect(1px, 1px, 1px, 1px);height: 1px;margin: -1px;overflow: hidden;padding: 0;position: absolute;width: 1px;}#sk-container-id-1 div.sk-estimator {font-family: monospace;background-color: #f0f8ff;border: 1px dotted black;border-radius: 0.25em;box-sizing: border-box;margin-bottom: 0.5em;}#sk-container-id-1 div.sk-estimator:hover {background-color: #d4ebff;}#sk-container-id-1 div.sk-parallel-item::after {content: \"\";width: 100%;border-bottom: 1px solid gray;flex-grow: 1;}#sk-container-id-1 div.sk-label:hover label.sk-toggleable__label {background-color: #d4ebff;}#sk-container-id-1 div.sk-serial::before {content: \"\";position: absolute;border-left: 1px solid gray;box-sizing: border-box;top: 0;bottom: 0;left: 50%;z-index: 0;}#sk-container-id-1 div.sk-serial {display: flex;flex-direction: column;align-items: center;background-color: white;padding-right: 0.2em;padding-left: 0.2em;position: relative;}#sk-container-id-1 div.sk-item {position: relative;z-index: 1;}#sk-container-id-1 div.sk-parallel {display: flex;align-items: stretch;justify-content: center;background-color: white;position: relative;}#sk-container-id-1 div.sk-item::before, #sk-container-id-1 div.sk-parallel-item::before {content: \"\";position: absolute;border-left: 1px solid gray;box-sizing: border-box;top: 0;bottom: 0;left: 50%;z-index: -1;}#sk-container-id-1 div.sk-parallel-item {display: flex;flex-direction: column;z-index: 1;position: relative;background-color: white;}#sk-container-id-1 div.sk-parallel-item:first-child::after {align-self: flex-end;width: 50%;}#sk-container-id-1 div.sk-parallel-item:last-child::after {align-self: flex-start;width: 50%;}#sk-container-id-1 div.sk-parallel-item:only-child::after {width: 0;}#sk-container-id-1 div.sk-dashed-wrapped {border: 1px dashed gray;margin: 0 0.4em 0.5em 0.4em;box-sizing: border-box;padding-bottom: 0.4em;background-color: white;}#sk-container-id-1 div.sk-label label {font-family: monospace;font-weight: bold;display: inline-block;line-height: 1.2em;}#sk-container-id-1 div.sk-label-container {text-align: center;}#sk-container-id-1 div.sk-container {/* jupyter's `normalize.less` sets `[hidden] { display: none; }` but bootstrap.min.css set `[hidden] { display: none !important; }` so we also need the `!important` here to be able to override the default hidden behavior on the sphinx rendered scikit-learn.org. See: https://github.com/scikit-learn/scikit-learn/issues/21755 */display: inline-block !important;position: relative;}#sk-container-id-1 div.sk-text-repr-fallback {display: none;}</style><div id=\"sk-container-id-1\" class=\"sk-top-container\"><div class=\"sk-text-repr-fallback\"><pre>TfidfVectorizer(max_df=0.8, max_features=10000)</pre><b>In a Jupyter environment, please rerun this cell to show the HTML representation or trust the notebook. <br />On GitHub, the HTML representation is unable to render, please try loading this page with nbviewer.org.</b></div><div class=\"sk-container\" hidden><div class=\"sk-item\"><div class=\"sk-estimator sk-toggleable\"><input class=\"sk-toggleable__control sk-hidden--visually\" id=\"sk-estimator-id-1\" type=\"checkbox\" checked><label for=\"sk-estimator-id-1\" class=\"sk-toggleable__label sk-toggleable__label-arrow\">TfidfVectorizer</label><div class=\"sk-toggleable__content\"><pre>TfidfVectorizer(max_df=0.8, max_features=10000)</pre></div></div></div></div></div>"
      ],
      "text/plain": [
       "TfidfVectorizer(max_df=0.8, max_features=10000)"
      ]
     },
     "execution_count": 66,
     "metadata": {},
     "output_type": "execute_result"
    }
   ],
   "source": [
    "tfidf_vectorizer"
   ]
  },
  {
   "cell_type": "code",
   "execution_count": 67,
   "metadata": {
    "id": "TqS8xMgnr0w5"
   },
   "outputs": [],
   "source": [
    "file=open('tfidfvector.pkl','wb')\n",
    "pickle.dump(tfidf_vectorizer,file)\n",
    "file.close()"
   ]
  },
  {
   "cell_type": "code",
   "execution_count": null,
   "metadata": {
    "id": "DU53-zr-r_4L"
   },
   "outputs": [],
   "source": []
  }
 ],
 "metadata": {
  "colab": {
   "provenance": []
  },
  "kernelspec": {
   "display_name": "Python 3 (ipykernel)",
   "language": "python",
   "name": "python3"
  },
  "language_info": {
   "codemirror_mode": {
    "name": "ipython",
    "version": 3
   },
   "file_extension": ".py",
   "mimetype": "text/x-python",
   "name": "python",
   "nbconvert_exporter": "python",
   "pygments_lexer": "ipython3",
   "version": "3.9.13"
  }
 },
 "nbformat": 4,
 "nbformat_minor": 1
}
